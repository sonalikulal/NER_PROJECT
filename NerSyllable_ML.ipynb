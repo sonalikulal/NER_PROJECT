{
  "nbformat": 4,
  "nbformat_minor": 0,
  "metadata": {
    "colab": {
      "provenance": []
    },
    "kernelspec": {
      "name": "python3",
      "display_name": "Python 3"
    },
    "language_info": {
      "name": "python"
    }
  },
  "cells": [
    {
      "cell_type": "code",
      "execution_count": 37,
      "metadata": {
        "id": "qqOmK3R84Gzw"
      },
      "outputs": [],
      "source": [
        "from google.colab import drive\n",
        "drive.mount('/content/drive')"
      ]
    },
    {
      "cell_type": "code",
      "source": [
        "!pip install pandas"
      ],
      "metadata": {
        "colab": {
          "base_uri": "https://localhost:8080/"
        },
        "id": "xCoKa1or9BxP",
        "outputId": "7a9afd7b-05cc-4686-e112-65f76ec351fa"
      },
      "execution_count": 38,
      "outputs": [
        {
          "output_type": "stream",
          "name": "stdout",
          "text": [
            "Requirement already satisfied: pandas in /usr/local/lib/python3.10/dist-packages (1.5.3)\n",
            "Requirement already satisfied: python-dateutil>=2.8.1 in /usr/local/lib/python3.10/dist-packages (from pandas) (2.8.2)\n",
            "Requirement already satisfied: pytz>=2020.1 in /usr/local/lib/python3.10/dist-packages (from pandas) (2023.4)\n",
            "Requirement already satisfied: numpy>=1.21.0 in /usr/local/lib/python3.10/dist-packages (from pandas) (1.23.5)\n",
            "Requirement already satisfied: six>=1.5 in /usr/local/lib/python3.10/dist-packages (from python-dateutil>=2.8.1->pandas) (1.16.0)\n"
          ]
        }
      ]
    },
    {
      "cell_type": "code",
      "source": [
        "import pandas as pd\n",
        "import numpy as np"
      ],
      "metadata": {
        "id": "YT7KeC714lyZ"
      },
      "execution_count": 39,
      "outputs": []
    },
    {
      "cell_type": "code",
      "source": [
        "from sklearn.feature_extraction.text import TfidfVectorizer\n",
        "from sklearn.metrics import classification_report,accuracy_score\n",
        "from sklearn.svm import LinearSVC"
      ],
      "metadata": {
        "id": "gM9zUCb65c4J"
      },
      "execution_count": 40,
      "outputs": []
    },
    {
      "cell_type": "code",
      "source": [
        "data=pd.read_csv('/content/drive/MyDrive/NER_NLP_PROJ/Tulu_NER - Tulu_NER.csv')\n",
        "#data_dev=pd.read_excel('')\n",
        "data"
      ],
      "metadata": {
        "id": "wQBWj8UW4uUZ",
        "colab": {
          "base_uri": "https://localhost:8080/",
          "height": 424
        },
        "outputId": "0f14994c-f8ab-4690-d0bf-7f00f136551a"
      },
      "execution_count": 41,
      "outputs": [
        {
          "output_type": "execute_result",
          "data": {
            "text/plain": [
              "              Words NER Tag\n",
              "0            ದಕ್ಷಿಣ   B-LOC\n",
              "1             ಕನ್ನಡ   I-LOC\n",
              "2          ಜಿಲ್ಲೆಗ್   B-GPE\n",
              "3            ತುರ್ತು   B-MED\n",
              "4          ಆಕ್ಸಿಜನ್   B-MED\n",
              "...             ...     ...\n",
              "20202        ದಕ್ಷಿಣ   B-LOC\n",
              "20203         ಕನ್ನಡ   I-LOC\n",
              "20204  ಜಿಲ್ಲಾಡಳಿತಗ್   B-GPE\n",
              "20205      ಕೊರ್ತೆರ್       O\n",
              "20206             .       O\n",
              "\n",
              "[20207 rows x 2 columns]"
            ],
            "text/html": [
              "\n",
              "  <div id=\"df-d99b88f8-2d72-4ae3-8574-20d3c7ecc6ac\" class=\"colab-df-container\">\n",
              "    <div>\n",
              "<style scoped>\n",
              "    .dataframe tbody tr th:only-of-type {\n",
              "        vertical-align: middle;\n",
              "    }\n",
              "\n",
              "    .dataframe tbody tr th {\n",
              "        vertical-align: top;\n",
              "    }\n",
              "\n",
              "    .dataframe thead th {\n",
              "        text-align: right;\n",
              "    }\n",
              "</style>\n",
              "<table border=\"1\" class=\"dataframe\">\n",
              "  <thead>\n",
              "    <tr style=\"text-align: right;\">\n",
              "      <th></th>\n",
              "      <th>Words</th>\n",
              "      <th>NER Tag</th>\n",
              "    </tr>\n",
              "  </thead>\n",
              "  <tbody>\n",
              "    <tr>\n",
              "      <th>0</th>\n",
              "      <td>ದಕ್ಷಿಣ</td>\n",
              "      <td>B-LOC</td>\n",
              "    </tr>\n",
              "    <tr>\n",
              "      <th>1</th>\n",
              "      <td>ಕನ್ನಡ</td>\n",
              "      <td>I-LOC</td>\n",
              "    </tr>\n",
              "    <tr>\n",
              "      <th>2</th>\n",
              "      <td>ಜಿಲ್ಲೆಗ್</td>\n",
              "      <td>B-GPE</td>\n",
              "    </tr>\n",
              "    <tr>\n",
              "      <th>3</th>\n",
              "      <td>ತುರ್ತು</td>\n",
              "      <td>B-MED</td>\n",
              "    </tr>\n",
              "    <tr>\n",
              "      <th>4</th>\n",
              "      <td>ಆಕ್ಸಿಜನ್</td>\n",
              "      <td>B-MED</td>\n",
              "    </tr>\n",
              "    <tr>\n",
              "      <th>...</th>\n",
              "      <td>...</td>\n",
              "      <td>...</td>\n",
              "    </tr>\n",
              "    <tr>\n",
              "      <th>20202</th>\n",
              "      <td>ದಕ್ಷಿಣ</td>\n",
              "      <td>B-LOC</td>\n",
              "    </tr>\n",
              "    <tr>\n",
              "      <th>20203</th>\n",
              "      <td>ಕನ್ನಡ</td>\n",
              "      <td>I-LOC</td>\n",
              "    </tr>\n",
              "    <tr>\n",
              "      <th>20204</th>\n",
              "      <td>ಜಿಲ್ಲಾಡಳಿತಗ್</td>\n",
              "      <td>B-GPE</td>\n",
              "    </tr>\n",
              "    <tr>\n",
              "      <th>20205</th>\n",
              "      <td>ಕೊರ್ತೆರ್</td>\n",
              "      <td>O</td>\n",
              "    </tr>\n",
              "    <tr>\n",
              "      <th>20206</th>\n",
              "      <td>.</td>\n",
              "      <td>O</td>\n",
              "    </tr>\n",
              "  </tbody>\n",
              "</table>\n",
              "<p>20207 rows × 2 columns</p>\n",
              "</div>\n",
              "    <div class=\"colab-df-buttons\">\n",
              "\n",
              "  <div class=\"colab-df-container\">\n",
              "    <button class=\"colab-df-convert\" onclick=\"convertToInteractive('df-d99b88f8-2d72-4ae3-8574-20d3c7ecc6ac')\"\n",
              "            title=\"Convert this dataframe to an interactive table.\"\n",
              "            style=\"display:none;\">\n",
              "\n",
              "  <svg xmlns=\"http://www.w3.org/2000/svg\" height=\"24px\" viewBox=\"0 -960 960 960\">\n",
              "    <path d=\"M120-120v-720h720v720H120Zm60-500h600v-160H180v160Zm220 220h160v-160H400v160Zm0 220h160v-160H400v160ZM180-400h160v-160H180v160Zm440 0h160v-160H620v160ZM180-180h160v-160H180v160Zm440 0h160v-160H620v160Z\"/>\n",
              "  </svg>\n",
              "    </button>\n",
              "\n",
              "  <style>\n",
              "    .colab-df-container {\n",
              "      display:flex;\n",
              "      gap: 12px;\n",
              "    }\n",
              "\n",
              "    .colab-df-convert {\n",
              "      background-color: #E8F0FE;\n",
              "      border: none;\n",
              "      border-radius: 50%;\n",
              "      cursor: pointer;\n",
              "      display: none;\n",
              "      fill: #1967D2;\n",
              "      height: 32px;\n",
              "      padding: 0 0 0 0;\n",
              "      width: 32px;\n",
              "    }\n",
              "\n",
              "    .colab-df-convert:hover {\n",
              "      background-color: #E2EBFA;\n",
              "      box-shadow: 0px 1px 2px rgba(60, 64, 67, 0.3), 0px 1px 3px 1px rgba(60, 64, 67, 0.15);\n",
              "      fill: #174EA6;\n",
              "    }\n",
              "\n",
              "    .colab-df-buttons div {\n",
              "      margin-bottom: 4px;\n",
              "    }\n",
              "\n",
              "    [theme=dark] .colab-df-convert {\n",
              "      background-color: #3B4455;\n",
              "      fill: #D2E3FC;\n",
              "    }\n",
              "\n",
              "    [theme=dark] .colab-df-convert:hover {\n",
              "      background-color: #434B5C;\n",
              "      box-shadow: 0px 1px 3px 1px rgba(0, 0, 0, 0.15);\n",
              "      filter: drop-shadow(0px 1px 2px rgba(0, 0, 0, 0.3));\n",
              "      fill: #FFFFFF;\n",
              "    }\n",
              "  </style>\n",
              "\n",
              "    <script>\n",
              "      const buttonEl =\n",
              "        document.querySelector('#df-d99b88f8-2d72-4ae3-8574-20d3c7ecc6ac button.colab-df-convert');\n",
              "      buttonEl.style.display =\n",
              "        google.colab.kernel.accessAllowed ? 'block' : 'none';\n",
              "\n",
              "      async function convertToInteractive(key) {\n",
              "        const element = document.querySelector('#df-d99b88f8-2d72-4ae3-8574-20d3c7ecc6ac');\n",
              "        const dataTable =\n",
              "          await google.colab.kernel.invokeFunction('convertToInteractive',\n",
              "                                                    [key], {});\n",
              "        if (!dataTable) return;\n",
              "\n",
              "        const docLinkHtml = 'Like what you see? Visit the ' +\n",
              "          '<a target=\"_blank\" href=https://colab.research.google.com/notebooks/data_table.ipynb>data table notebook</a>'\n",
              "          + ' to learn more about interactive tables.';\n",
              "        element.innerHTML = '';\n",
              "        dataTable['output_type'] = 'display_data';\n",
              "        await google.colab.output.renderOutput(dataTable, element);\n",
              "        const docLink = document.createElement('div');\n",
              "        docLink.innerHTML = docLinkHtml;\n",
              "        element.appendChild(docLink);\n",
              "      }\n",
              "    </script>\n",
              "  </div>\n",
              "\n",
              "\n",
              "<div id=\"df-eb884530-9933-4115-9a23-2a37fa3930bf\">\n",
              "  <button class=\"colab-df-quickchart\" onclick=\"quickchart('df-eb884530-9933-4115-9a23-2a37fa3930bf')\"\n",
              "            title=\"Suggest charts\"\n",
              "            style=\"display:none;\">\n",
              "\n",
              "<svg xmlns=\"http://www.w3.org/2000/svg\" height=\"24px\"viewBox=\"0 0 24 24\"\n",
              "     width=\"24px\">\n",
              "    <g>\n",
              "        <path d=\"M19 3H5c-1.1 0-2 .9-2 2v14c0 1.1.9 2 2 2h14c1.1 0 2-.9 2-2V5c0-1.1-.9-2-2-2zM9 17H7v-7h2v7zm4 0h-2V7h2v10zm4 0h-2v-4h2v4z\"/>\n",
              "    </g>\n",
              "</svg>\n",
              "  </button>\n",
              "\n",
              "<style>\n",
              "  .colab-df-quickchart {\n",
              "      --bg-color: #E8F0FE;\n",
              "      --fill-color: #1967D2;\n",
              "      --hover-bg-color: #E2EBFA;\n",
              "      --hover-fill-color: #174EA6;\n",
              "      --disabled-fill-color: #AAA;\n",
              "      --disabled-bg-color: #DDD;\n",
              "  }\n",
              "\n",
              "  [theme=dark] .colab-df-quickchart {\n",
              "      --bg-color: #3B4455;\n",
              "      --fill-color: #D2E3FC;\n",
              "      --hover-bg-color: #434B5C;\n",
              "      --hover-fill-color: #FFFFFF;\n",
              "      --disabled-bg-color: #3B4455;\n",
              "      --disabled-fill-color: #666;\n",
              "  }\n",
              "\n",
              "  .colab-df-quickchart {\n",
              "    background-color: var(--bg-color);\n",
              "    border: none;\n",
              "    border-radius: 50%;\n",
              "    cursor: pointer;\n",
              "    display: none;\n",
              "    fill: var(--fill-color);\n",
              "    height: 32px;\n",
              "    padding: 0;\n",
              "    width: 32px;\n",
              "  }\n",
              "\n",
              "  .colab-df-quickchart:hover {\n",
              "    background-color: var(--hover-bg-color);\n",
              "    box-shadow: 0 1px 2px rgba(60, 64, 67, 0.3), 0 1px 3px 1px rgba(60, 64, 67, 0.15);\n",
              "    fill: var(--button-hover-fill-color);\n",
              "  }\n",
              "\n",
              "  .colab-df-quickchart-complete:disabled,\n",
              "  .colab-df-quickchart-complete:disabled:hover {\n",
              "    background-color: var(--disabled-bg-color);\n",
              "    fill: var(--disabled-fill-color);\n",
              "    box-shadow: none;\n",
              "  }\n",
              "\n",
              "  .colab-df-spinner {\n",
              "    border: 2px solid var(--fill-color);\n",
              "    border-color: transparent;\n",
              "    border-bottom-color: var(--fill-color);\n",
              "    animation:\n",
              "      spin 1s steps(1) infinite;\n",
              "  }\n",
              "\n",
              "  @keyframes spin {\n",
              "    0% {\n",
              "      border-color: transparent;\n",
              "      border-bottom-color: var(--fill-color);\n",
              "      border-left-color: var(--fill-color);\n",
              "    }\n",
              "    20% {\n",
              "      border-color: transparent;\n",
              "      border-left-color: var(--fill-color);\n",
              "      border-top-color: var(--fill-color);\n",
              "    }\n",
              "    30% {\n",
              "      border-color: transparent;\n",
              "      border-left-color: var(--fill-color);\n",
              "      border-top-color: var(--fill-color);\n",
              "      border-right-color: var(--fill-color);\n",
              "    }\n",
              "    40% {\n",
              "      border-color: transparent;\n",
              "      border-right-color: var(--fill-color);\n",
              "      border-top-color: var(--fill-color);\n",
              "    }\n",
              "    60% {\n",
              "      border-color: transparent;\n",
              "      border-right-color: var(--fill-color);\n",
              "    }\n",
              "    80% {\n",
              "      border-color: transparent;\n",
              "      border-right-color: var(--fill-color);\n",
              "      border-bottom-color: var(--fill-color);\n",
              "    }\n",
              "    90% {\n",
              "      border-color: transparent;\n",
              "      border-bottom-color: var(--fill-color);\n",
              "    }\n",
              "  }\n",
              "</style>\n",
              "\n",
              "  <script>\n",
              "    async function quickchart(key) {\n",
              "      const quickchartButtonEl =\n",
              "        document.querySelector('#' + key + ' button');\n",
              "      quickchartButtonEl.disabled = true;  // To prevent multiple clicks.\n",
              "      quickchartButtonEl.classList.add('colab-df-spinner');\n",
              "      try {\n",
              "        const charts = await google.colab.kernel.invokeFunction(\n",
              "            'suggestCharts', [key], {});\n",
              "      } catch (error) {\n",
              "        console.error('Error during call to suggestCharts:', error);\n",
              "      }\n",
              "      quickchartButtonEl.classList.remove('colab-df-spinner');\n",
              "      quickchartButtonEl.classList.add('colab-df-quickchart-complete');\n",
              "    }\n",
              "    (() => {\n",
              "      let quickchartButtonEl =\n",
              "        document.querySelector('#df-eb884530-9933-4115-9a23-2a37fa3930bf button');\n",
              "      quickchartButtonEl.style.display =\n",
              "        google.colab.kernel.accessAllowed ? 'block' : 'none';\n",
              "    })();\n",
              "  </script>\n",
              "</div>\n",
              "\n",
              "  <div id=\"id_80c42252-ad7f-41d0-aaa2-9b80a57ca495\">\n",
              "    <style>\n",
              "      .colab-df-generate {\n",
              "        background-color: #E8F0FE;\n",
              "        border: none;\n",
              "        border-radius: 50%;\n",
              "        cursor: pointer;\n",
              "        display: none;\n",
              "        fill: #1967D2;\n",
              "        height: 32px;\n",
              "        padding: 0 0 0 0;\n",
              "        width: 32px;\n",
              "      }\n",
              "\n",
              "      .colab-df-generate:hover {\n",
              "        background-color: #E2EBFA;\n",
              "        box-shadow: 0px 1px 2px rgba(60, 64, 67, 0.3), 0px 1px 3px 1px rgba(60, 64, 67, 0.15);\n",
              "        fill: #174EA6;\n",
              "      }\n",
              "\n",
              "      [theme=dark] .colab-df-generate {\n",
              "        background-color: #3B4455;\n",
              "        fill: #D2E3FC;\n",
              "      }\n",
              "\n",
              "      [theme=dark] .colab-df-generate:hover {\n",
              "        background-color: #434B5C;\n",
              "        box-shadow: 0px 1px 3px 1px rgba(0, 0, 0, 0.15);\n",
              "        filter: drop-shadow(0px 1px 2px rgba(0, 0, 0, 0.3));\n",
              "        fill: #FFFFFF;\n",
              "      }\n",
              "    </style>\n",
              "    <button class=\"colab-df-generate\" onclick=\"generateWithVariable('data')\"\n",
              "            title=\"Generate code using this dataframe.\"\n",
              "            style=\"display:none;\">\n",
              "\n",
              "  <svg xmlns=\"http://www.w3.org/2000/svg\" height=\"24px\"viewBox=\"0 0 24 24\"\n",
              "       width=\"24px\">\n",
              "    <path d=\"M7,19H8.4L18.45,9,17,7.55,7,17.6ZM5,21V16.75L18.45,3.32a2,2,0,0,1,2.83,0l1.4,1.43a1.91,1.91,0,0,1,.58,1.4,1.91,1.91,0,0,1-.58,1.4L9.25,21ZM18.45,9,17,7.55Zm-12,3A5.31,5.31,0,0,0,4.9,8.1,5.31,5.31,0,0,0,1,6.5,5.31,5.31,0,0,0,4.9,4.9,5.31,5.31,0,0,0,6.5,1,5.31,5.31,0,0,0,8.1,4.9,5.31,5.31,0,0,0,12,6.5,5.46,5.46,0,0,0,6.5,12Z\"/>\n",
              "  </svg>\n",
              "    </button>\n",
              "    <script>\n",
              "      (() => {\n",
              "      const buttonEl =\n",
              "        document.querySelector('#id_80c42252-ad7f-41d0-aaa2-9b80a57ca495 button.colab-df-generate');\n",
              "      buttonEl.style.display =\n",
              "        google.colab.kernel.accessAllowed ? 'block' : 'none';\n",
              "\n",
              "      buttonEl.onclick = () => {\n",
              "        google.colab.notebook.generateWithVariable('data');\n",
              "      }\n",
              "      })();\n",
              "    </script>\n",
              "  </div>\n",
              "\n",
              "    </div>\n",
              "  </div>\n"
            ]
          },
          "metadata": {},
          "execution_count": 41
        }
      ]
    },
    {
      "cell_type": "code",
      "source": [
        "data.head()"
      ],
      "metadata": {
        "id": "j556j1Gbajyh",
        "colab": {
          "base_uri": "https://localhost:8080/",
          "height": 206
        },
        "outputId": "fad363db-1944-48a9-c497-4756f10b8638"
      },
      "execution_count": 42,
      "outputs": [
        {
          "output_type": "execute_result",
          "data": {
            "text/plain": [
              "      Words NER Tag\n",
              "0    ದಕ್ಷಿಣ   B-LOC\n",
              "1     ಕನ್ನಡ   I-LOC\n",
              "2  ಜಿಲ್ಲೆಗ್   B-GPE\n",
              "3    ತುರ್ತು   B-MED\n",
              "4  ಆಕ್ಸಿಜನ್   B-MED"
            ],
            "text/html": [
              "\n",
              "  <div id=\"df-f0d67d2c-f56c-4044-93f1-9c96482bc6c5\" class=\"colab-df-container\">\n",
              "    <div>\n",
              "<style scoped>\n",
              "    .dataframe tbody tr th:only-of-type {\n",
              "        vertical-align: middle;\n",
              "    }\n",
              "\n",
              "    .dataframe tbody tr th {\n",
              "        vertical-align: top;\n",
              "    }\n",
              "\n",
              "    .dataframe thead th {\n",
              "        text-align: right;\n",
              "    }\n",
              "</style>\n",
              "<table border=\"1\" class=\"dataframe\">\n",
              "  <thead>\n",
              "    <tr style=\"text-align: right;\">\n",
              "      <th></th>\n",
              "      <th>Words</th>\n",
              "      <th>NER Tag</th>\n",
              "    </tr>\n",
              "  </thead>\n",
              "  <tbody>\n",
              "    <tr>\n",
              "      <th>0</th>\n",
              "      <td>ದಕ್ಷಿಣ</td>\n",
              "      <td>B-LOC</td>\n",
              "    </tr>\n",
              "    <tr>\n",
              "      <th>1</th>\n",
              "      <td>ಕನ್ನಡ</td>\n",
              "      <td>I-LOC</td>\n",
              "    </tr>\n",
              "    <tr>\n",
              "      <th>2</th>\n",
              "      <td>ಜಿಲ್ಲೆಗ್</td>\n",
              "      <td>B-GPE</td>\n",
              "    </tr>\n",
              "    <tr>\n",
              "      <th>3</th>\n",
              "      <td>ತುರ್ತು</td>\n",
              "      <td>B-MED</td>\n",
              "    </tr>\n",
              "    <tr>\n",
              "      <th>4</th>\n",
              "      <td>ಆಕ್ಸಿಜನ್</td>\n",
              "      <td>B-MED</td>\n",
              "    </tr>\n",
              "  </tbody>\n",
              "</table>\n",
              "</div>\n",
              "    <div class=\"colab-df-buttons\">\n",
              "\n",
              "  <div class=\"colab-df-container\">\n",
              "    <button class=\"colab-df-convert\" onclick=\"convertToInteractive('df-f0d67d2c-f56c-4044-93f1-9c96482bc6c5')\"\n",
              "            title=\"Convert this dataframe to an interactive table.\"\n",
              "            style=\"display:none;\">\n",
              "\n",
              "  <svg xmlns=\"http://www.w3.org/2000/svg\" height=\"24px\" viewBox=\"0 -960 960 960\">\n",
              "    <path d=\"M120-120v-720h720v720H120Zm60-500h600v-160H180v160Zm220 220h160v-160H400v160Zm0 220h160v-160H400v160ZM180-400h160v-160H180v160Zm440 0h160v-160H620v160ZM180-180h160v-160H180v160Zm440 0h160v-160H620v160Z\"/>\n",
              "  </svg>\n",
              "    </button>\n",
              "\n",
              "  <style>\n",
              "    .colab-df-container {\n",
              "      display:flex;\n",
              "      gap: 12px;\n",
              "    }\n",
              "\n",
              "    .colab-df-convert {\n",
              "      background-color: #E8F0FE;\n",
              "      border: none;\n",
              "      border-radius: 50%;\n",
              "      cursor: pointer;\n",
              "      display: none;\n",
              "      fill: #1967D2;\n",
              "      height: 32px;\n",
              "      padding: 0 0 0 0;\n",
              "      width: 32px;\n",
              "    }\n",
              "\n",
              "    .colab-df-convert:hover {\n",
              "      background-color: #E2EBFA;\n",
              "      box-shadow: 0px 1px 2px rgba(60, 64, 67, 0.3), 0px 1px 3px 1px rgba(60, 64, 67, 0.15);\n",
              "      fill: #174EA6;\n",
              "    }\n",
              "\n",
              "    .colab-df-buttons div {\n",
              "      margin-bottom: 4px;\n",
              "    }\n",
              "\n",
              "    [theme=dark] .colab-df-convert {\n",
              "      background-color: #3B4455;\n",
              "      fill: #D2E3FC;\n",
              "    }\n",
              "\n",
              "    [theme=dark] .colab-df-convert:hover {\n",
              "      background-color: #434B5C;\n",
              "      box-shadow: 0px 1px 3px 1px rgba(0, 0, 0, 0.15);\n",
              "      filter: drop-shadow(0px 1px 2px rgba(0, 0, 0, 0.3));\n",
              "      fill: #FFFFFF;\n",
              "    }\n",
              "  </style>\n",
              "\n",
              "    <script>\n",
              "      const buttonEl =\n",
              "        document.querySelector('#df-f0d67d2c-f56c-4044-93f1-9c96482bc6c5 button.colab-df-convert');\n",
              "      buttonEl.style.display =\n",
              "        google.colab.kernel.accessAllowed ? 'block' : 'none';\n",
              "\n",
              "      async function convertToInteractive(key) {\n",
              "        const element = document.querySelector('#df-f0d67d2c-f56c-4044-93f1-9c96482bc6c5');\n",
              "        const dataTable =\n",
              "          await google.colab.kernel.invokeFunction('convertToInteractive',\n",
              "                                                    [key], {});\n",
              "        if (!dataTable) return;\n",
              "\n",
              "        const docLinkHtml = 'Like what you see? Visit the ' +\n",
              "          '<a target=\"_blank\" href=https://colab.research.google.com/notebooks/data_table.ipynb>data table notebook</a>'\n",
              "          + ' to learn more about interactive tables.';\n",
              "        element.innerHTML = '';\n",
              "        dataTable['output_type'] = 'display_data';\n",
              "        await google.colab.output.renderOutput(dataTable, element);\n",
              "        const docLink = document.createElement('div');\n",
              "        docLink.innerHTML = docLinkHtml;\n",
              "        element.appendChild(docLink);\n",
              "      }\n",
              "    </script>\n",
              "  </div>\n",
              "\n",
              "\n",
              "<div id=\"df-4f701482-5934-4692-b00f-b2502b3fdd35\">\n",
              "  <button class=\"colab-df-quickchart\" onclick=\"quickchart('df-4f701482-5934-4692-b00f-b2502b3fdd35')\"\n",
              "            title=\"Suggest charts\"\n",
              "            style=\"display:none;\">\n",
              "\n",
              "<svg xmlns=\"http://www.w3.org/2000/svg\" height=\"24px\"viewBox=\"0 0 24 24\"\n",
              "     width=\"24px\">\n",
              "    <g>\n",
              "        <path d=\"M19 3H5c-1.1 0-2 .9-2 2v14c0 1.1.9 2 2 2h14c1.1 0 2-.9 2-2V5c0-1.1-.9-2-2-2zM9 17H7v-7h2v7zm4 0h-2V7h2v10zm4 0h-2v-4h2v4z\"/>\n",
              "    </g>\n",
              "</svg>\n",
              "  </button>\n",
              "\n",
              "<style>\n",
              "  .colab-df-quickchart {\n",
              "      --bg-color: #E8F0FE;\n",
              "      --fill-color: #1967D2;\n",
              "      --hover-bg-color: #E2EBFA;\n",
              "      --hover-fill-color: #174EA6;\n",
              "      --disabled-fill-color: #AAA;\n",
              "      --disabled-bg-color: #DDD;\n",
              "  }\n",
              "\n",
              "  [theme=dark] .colab-df-quickchart {\n",
              "      --bg-color: #3B4455;\n",
              "      --fill-color: #D2E3FC;\n",
              "      --hover-bg-color: #434B5C;\n",
              "      --hover-fill-color: #FFFFFF;\n",
              "      --disabled-bg-color: #3B4455;\n",
              "      --disabled-fill-color: #666;\n",
              "  }\n",
              "\n",
              "  .colab-df-quickchart {\n",
              "    background-color: var(--bg-color);\n",
              "    border: none;\n",
              "    border-radius: 50%;\n",
              "    cursor: pointer;\n",
              "    display: none;\n",
              "    fill: var(--fill-color);\n",
              "    height: 32px;\n",
              "    padding: 0;\n",
              "    width: 32px;\n",
              "  }\n",
              "\n",
              "  .colab-df-quickchart:hover {\n",
              "    background-color: var(--hover-bg-color);\n",
              "    box-shadow: 0 1px 2px rgba(60, 64, 67, 0.3), 0 1px 3px 1px rgba(60, 64, 67, 0.15);\n",
              "    fill: var(--button-hover-fill-color);\n",
              "  }\n",
              "\n",
              "  .colab-df-quickchart-complete:disabled,\n",
              "  .colab-df-quickchart-complete:disabled:hover {\n",
              "    background-color: var(--disabled-bg-color);\n",
              "    fill: var(--disabled-fill-color);\n",
              "    box-shadow: none;\n",
              "  }\n",
              "\n",
              "  .colab-df-spinner {\n",
              "    border: 2px solid var(--fill-color);\n",
              "    border-color: transparent;\n",
              "    border-bottom-color: var(--fill-color);\n",
              "    animation:\n",
              "      spin 1s steps(1) infinite;\n",
              "  }\n",
              "\n",
              "  @keyframes spin {\n",
              "    0% {\n",
              "      border-color: transparent;\n",
              "      border-bottom-color: var(--fill-color);\n",
              "      border-left-color: var(--fill-color);\n",
              "    }\n",
              "    20% {\n",
              "      border-color: transparent;\n",
              "      border-left-color: var(--fill-color);\n",
              "      border-top-color: var(--fill-color);\n",
              "    }\n",
              "    30% {\n",
              "      border-color: transparent;\n",
              "      border-left-color: var(--fill-color);\n",
              "      border-top-color: var(--fill-color);\n",
              "      border-right-color: var(--fill-color);\n",
              "    }\n",
              "    40% {\n",
              "      border-color: transparent;\n",
              "      border-right-color: var(--fill-color);\n",
              "      border-top-color: var(--fill-color);\n",
              "    }\n",
              "    60% {\n",
              "      border-color: transparent;\n",
              "      border-right-color: var(--fill-color);\n",
              "    }\n",
              "    80% {\n",
              "      border-color: transparent;\n",
              "      border-right-color: var(--fill-color);\n",
              "      border-bottom-color: var(--fill-color);\n",
              "    }\n",
              "    90% {\n",
              "      border-color: transparent;\n",
              "      border-bottom-color: var(--fill-color);\n",
              "    }\n",
              "  }\n",
              "</style>\n",
              "\n",
              "  <script>\n",
              "    async function quickchart(key) {\n",
              "      const quickchartButtonEl =\n",
              "        document.querySelector('#' + key + ' button');\n",
              "      quickchartButtonEl.disabled = true;  // To prevent multiple clicks.\n",
              "      quickchartButtonEl.classList.add('colab-df-spinner');\n",
              "      try {\n",
              "        const charts = await google.colab.kernel.invokeFunction(\n",
              "            'suggestCharts', [key], {});\n",
              "      } catch (error) {\n",
              "        console.error('Error during call to suggestCharts:', error);\n",
              "      }\n",
              "      quickchartButtonEl.classList.remove('colab-df-spinner');\n",
              "      quickchartButtonEl.classList.add('colab-df-quickchart-complete');\n",
              "    }\n",
              "    (() => {\n",
              "      let quickchartButtonEl =\n",
              "        document.querySelector('#df-4f701482-5934-4692-b00f-b2502b3fdd35 button');\n",
              "      quickchartButtonEl.style.display =\n",
              "        google.colab.kernel.accessAllowed ? 'block' : 'none';\n",
              "    })();\n",
              "  </script>\n",
              "</div>\n",
              "\n",
              "    </div>\n",
              "  </div>\n"
            ]
          },
          "metadata": {},
          "execution_count": 42
        }
      ]
    },
    {
      "cell_type": "code",
      "source": [
        "#data_dev.head()"
      ],
      "metadata": {
        "id": "C97J2VaiifQq"
      },
      "execution_count": 43,
      "outputs": []
    },
    {
      "cell_type": "code",
      "source": [
        "data.columns.unique()"
      ],
      "metadata": {
        "colab": {
          "base_uri": "https://localhost:8080/"
        },
        "id": "hHdvdK9zcUaK",
        "outputId": "0443e99e-d1bf-4728-d60f-83b9b6505f7c"
      },
      "execution_count": 44,
      "outputs": [
        {
          "output_type": "execute_result",
          "data": {
            "text/plain": [
              "Index(['Words', 'NER Tag'], dtype='object')"
            ]
          },
          "metadata": {},
          "execution_count": 44
        }
      ]
    },
    {
      "cell_type": "code",
      "source": [
        "data['NER Tag'].value_counts()"
      ],
      "metadata": {
        "id": "DP9roePFbf8o",
        "colab": {
          "base_uri": "https://localhost:8080/"
        },
        "outputId": "4932544f-75c3-4248-d2f3-2a5c961df2ce"
      },
      "execution_count": 46,
      "outputs": [
        {
          "output_type": "execute_result",
          "data": {
            "text/plain": [
              "O         9642\n",
              "I-ORG      871\n",
              "B-ACD      861\n",
              "B-LOC      755\n",
              "B-ORG      738\n",
              "B-ROL      716\n",
              "I-PER      656\n",
              "B-DATE     644\n",
              "B-PER      637\n",
              "B-POL      558\n",
              "B-NUM      557\n",
              "B-MED      556\n",
              "B-FAM      304\n",
              "I-ACD      280\n",
              "I-MED      275\n",
              "B-GPE      269\n",
              "B-LEF      263\n",
              "B-FUN      231\n",
              "I-ROL      227\n",
              "I-LOC      222\n",
              "B-COM      144\n",
              "I-POL      138\n",
              "B-TRS      110\n",
              "I-LEF       88\n",
              "I-FUN       85\n",
              "I-DATE      83\n",
              "B-ENT       78\n",
              "I-TRS       44\n",
              "B-GRC       35\n",
              "I-FAM       31\n",
              "I-ENT       28\n",
              "I-GPE       11\n",
              "I-COM       11\n",
              "I-GRC        9\n",
              "B-SPT        7\n",
              "I-NUM        7\n",
              "I-SPT        4\n",
              "o            4\n",
              "Name: NER Tag, dtype: int64"
            ]
          },
          "metadata": {},
          "execution_count": 46
        }
      ]
    },
    {
      "cell_type": "code",
      "source": [
        "#data_dev['LABEL'].value_counts()"
      ],
      "metadata": {
        "id": "Z3T7hAk4h9lZ"
      },
      "execution_count": 47,
      "outputs": []
    },
    {
      "cell_type": "code",
      "source": [
        "len(data)"
      ],
      "metadata": {
        "id": "IM7gmdmQoZPY",
        "colab": {
          "base_uri": "https://localhost:8080/"
        },
        "outputId": "86603ebc-a1d1-4f07-9047-1765cf464229"
      },
      "execution_count": 48,
      "outputs": [
        {
          "output_type": "execute_result",
          "data": {
            "text/plain": [
              "20207"
            ]
          },
          "metadata": {},
          "execution_count": 48
        }
      ]
    },
    {
      "cell_type": "code",
      "execution_count": 49,
      "metadata": {
        "id": "2d05f0f5",
        "colab": {
          "base_uri": "https://localhost:8080/"
        },
        "outputId": "d7ba5903-ee19-4c2e-cc15-1f5195126307"
      },
      "outputs": [
        {
          "output_type": "stream",
          "name": "stdout",
          "text": [
            "Cloning into 'syllabalizer'...\n",
            "remote: Enumerating objects: 186, done.\u001b[K\n",
            "remote: Total 186 (delta 0), reused 0 (delta 0), pack-reused 186\u001b[K\n",
            "Receiving objects: 100% (186/186), 41.35 KiB | 901.00 KiB/s, done.\n",
            "Resolving deltas: 100% (65/65), done.\n",
            "/content/syllabalizer/syllabalizer/syllabalizer\n"
          ]
        },
        {
          "output_type": "stream",
          "name": "stderr",
          "text": [
            "/usr/local/lib/python3.10/dist-packages/setuptools/dist.py:755: SetuptoolsDeprecationWarning: Invalid dash-separated options\n",
            "!!\n",
            "\n",
            "        ********************************************************************************\n",
            "        Usage of dash-separated 'description-file' will not be supported in future\n",
            "        versions. Please use the underscore name 'description_file' instead.\n",
            "\n",
            "        This deprecation is overdue, please update your project and remove deprecated\n",
            "        calls to avoid build errors in the future.\n",
            "\n",
            "        See https://setuptools.pypa.io/en/latest/userguide/declarative_config.html for details.\n",
            "        ********************************************************************************\n",
            "\n",
            "!!\n",
            "  opt = self.warn_dash_deprecation(opt, section)\n",
            "/usr/local/lib/python3.10/dist-packages/setuptools/dist.py:755: SetuptoolsDeprecationWarning: Invalid dash-separated options\n",
            "!!\n",
            "\n",
            "        ********************************************************************************\n",
            "        Usage of dash-separated 'author-email' will not be supported in future\n",
            "        versions. Please use the underscore name 'author_email' instead.\n",
            "\n",
            "        This deprecation is overdue, please update your project and remove deprecated\n",
            "        calls to avoid build errors in the future.\n",
            "\n",
            "        See https://setuptools.pypa.io/en/latest/userguide/declarative_config.html for details.\n",
            "        ********************************************************************************\n",
            "\n",
            "!!\n",
            "  opt = self.warn_dash_deprecation(opt, section)\n",
            "/usr/local/lib/python3.10/dist-packages/setuptools/dist.py:755: SetuptoolsDeprecationWarning: Invalid dash-separated options\n",
            "!!\n",
            "\n",
            "        ********************************************************************************\n",
            "        Usage of dash-separated 'home-page' will not be supported in future\n",
            "        versions. Please use the underscore name 'home_page' instead.\n",
            "\n",
            "        This deprecation is overdue, please update your project and remove deprecated\n",
            "        calls to avoid build errors in the future.\n",
            "\n",
            "        See https://setuptools.pypa.io/en/latest/userguide/declarative_config.html for details.\n",
            "        ********************************************************************************\n",
            "\n",
            "!!\n",
            "  opt = self.warn_dash_deprecation(opt, section)\n",
            "/usr/local/lib/python3.10/dist-packages/setuptools/__init__.py:84: _DeprecatedInstaller: setuptools.installer and fetch_build_eggs are deprecated.\n",
            "!!\n",
            "\n",
            "        ********************************************************************************\n",
            "        Requirements should be satisfied by a PEP 517 installer.\n",
            "        If you are using pip, you can try `pip install --use-pep517`.\n",
            "        ********************************************************************************\n",
            "\n",
            "!!\n",
            "  dist.fetch_build_eggs(dist.setup_requires)\n",
            "INFO:root:[pbr] Generating ChangeLog\n",
            "/usr/local/lib/python3.10/dist-packages/setuptools/command/develop.py:40: EasyInstallDeprecationWarning: easy_install command is deprecated.\n",
            "!!\n",
            "\n",
            "        ********************************************************************************\n",
            "        Please avoid running ``setup.py`` and ``easy_install``.\n",
            "        Instead, use pypa/build, pypa/installer, pypa/build or\n",
            "        other standards-based tools.\n",
            "\n",
            "        See https://github.com/pypa/setuptools/issues/917 for details.\n",
            "        ********************************************************************************\n",
            "\n",
            "!!\n",
            "  easy_install.initialize_options(self)\n",
            "/usr/local/lib/python3.10/dist-packages/setuptools/_distutils/cmd.py:66: SetuptoolsDeprecationWarning: setup.py install is deprecated.\n",
            "!!\n",
            "\n",
            "        ********************************************************************************\n",
            "        Please avoid running ``setup.py`` directly.\n",
            "        Instead, use pypa/build, pypa/installer, pypa/build or\n",
            "        other standards-based tools.\n",
            "\n",
            "        See https://blog.ganssle.io/articles/2021/10/setup-py-deprecated.html for details.\n",
            "        ********************************************************************************\n",
            "\n",
            "!!\n",
            "  self.initialize_options()\n",
            "/usr/local/lib/python3.10/dist-packages/setuptools/dist.py:955: SetuptoolsDeprecationWarning: The namespace_packages parameter is deprecated.\n",
            "!!\n",
            "\n",
            "        ********************************************************************************\n",
            "        Please replace its usage with implicit namespaces (PEP 420).\n",
            "\n",
            "        See https://setuptools.pypa.io/en/latest/references/keywords.html#keyword-namespace-packages for details.\n",
            "        ********************************************************************************\n",
            "\n",
            "!!\n",
            "  ep.load()(self, ep.name, value)\n",
            "/usr/local/lib/python3.10/dist-packages/setuptools/dist.py:755: SetuptoolsDeprecationWarning: Invalid dash-separated options\n",
            "!!\n",
            "\n",
            "        ********************************************************************************\n",
            "        Usage of dash-separated 'description-file' will not be supported in future\n",
            "        versions. Please use the underscore name 'description_file' instead.\n",
            "\n",
            "        This deprecation is overdue, please update your project and remove deprecated\n",
            "        calls to avoid build errors in the future.\n",
            "\n",
            "        See https://setuptools.pypa.io/en/latest/userguide/declarative_config.html for details.\n",
            "        ********************************************************************************\n",
            "\n",
            "!!\n",
            "  opt = self.warn_dash_deprecation(opt, section)\n",
            "/usr/local/lib/python3.10/dist-packages/setuptools/dist.py:755: SetuptoolsDeprecationWarning: Invalid dash-separated options\n",
            "!!\n",
            "\n",
            "        ********************************************************************************\n",
            "        Usage of dash-separated 'author-email' will not be supported in future\n",
            "        versions. Please use the underscore name 'author_email' instead.\n",
            "\n",
            "        This deprecation is overdue, please update your project and remove deprecated\n",
            "        calls to avoid build errors in the future.\n",
            "\n",
            "        See https://setuptools.pypa.io/en/latest/userguide/declarative_config.html for details.\n",
            "        ********************************************************************************\n",
            "\n",
            "!!\n",
            "  opt = self.warn_dash_deprecation(opt, section)\n",
            "/usr/local/lib/python3.10/dist-packages/setuptools/dist.py:755: SetuptoolsDeprecationWarning: Invalid dash-separated options\n",
            "!!\n",
            "\n",
            "        ********************************************************************************\n",
            "        Usage of dash-separated 'home-page' will not be supported in future\n",
            "        versions. Please use the underscore name 'home_page' instead.\n",
            "\n",
            "        This deprecation is overdue, please update your project and remove deprecated\n",
            "        calls to avoid build errors in the future.\n",
            "\n",
            "        See https://setuptools.pypa.io/en/latest/userguide/declarative_config.html for details.\n",
            "        ********************************************************************************\n",
            "\n",
            "!!\n",
            "  opt = self.warn_dash_deprecation(opt, section)\n",
            "INFO:root:running sdist\n",
            "INFO:root:[pbr] Writing ChangeLog\n",
            "INFO:root:[pbr] Generating ChangeLog\n",
            "INFO:root:[pbr] ChangeLog complete (0.0s)\n",
            "INFO:root:[pbr] Generating AUTHORS\n",
            "INFO:root:[pbr] AUTHORS complete (0.0s)\n",
            "INFO:root:running egg_info\n",
            "INFO:root:creating libindic_syllabifier.egg-info\n",
            "INFO:root:writing pbr to libindic_syllabifier.egg-info/pbr.json\n",
            "INFO:root:writing libindic_syllabifier.egg-info/PKG-INFO\n",
            "INFO:root:writing dependency_links to libindic_syllabifier.egg-info/dependency_links.txt\n",
            "INFO:root:writing namespace_packages to libindic_syllabifier.egg-info/namespace_packages.txt\n",
            "INFO:root:writing requirements to libindic_syllabifier.egg-info/requires.txt\n",
            "INFO:root:writing top-level names to libindic_syllabifier.egg-info/top_level.txt\n",
            "INFO:root:[pbr] Processing SOURCES.txt\n",
            "INFO:root:writing manifest file 'libindic_syllabifier.egg-info/SOURCES.txt'\n",
            "INFO:root:[pbr] In git context, generating filelist from git\n",
            "WARNING:root:warning: no previously-included files found matching '.gitreview'\n",
            "WARNING:root:warning: no previously-included files matching '*.pyc' found anywhere in distribution\n",
            "INFO:root:writing manifest file 'libindic_syllabifier.egg-info/SOURCES.txt'\n",
            "INFO:root:[pbr] reno was not found or is too old. Skipping release notes\n",
            "INFO:root:running check\n",
            "INFO:root:creating libindic-syllabifier-0.0.1.dev28\n",
            "INFO:root:creating libindic-syllabifier-0.0.1.dev28/docs\n",
            "INFO:root:creating libindic-syllabifier-0.0.1.dev28/docs/_themes\n",
            "INFO:root:creating libindic-syllabifier-0.0.1.dev28/docs/_themes/kr\n",
            "INFO:root:creating libindic-syllabifier-0.0.1.dev28/docs/_themes/kr/static\n",
            "INFO:root:creating libindic-syllabifier-0.0.1.dev28/docs/_themes/kr_small\n",
            "INFO:root:creating libindic-syllabifier-0.0.1.dev28/docs/_themes/kr_small/static\n",
            "INFO:root:creating libindic-syllabifier-0.0.1.dev28/libindic\n",
            "INFO:root:creating libindic-syllabifier-0.0.1.dev28/libindic/syllabifier\n",
            "INFO:root:creating libindic-syllabifier-0.0.1.dev28/libindic/syllabifier/templates\n",
            "INFO:root:creating libindic-syllabifier-0.0.1.dev28/libindic/syllabifier/tests\n",
            "INFO:root:creating libindic-syllabifier-0.0.1.dev28/libindic_syllabifier.egg-info\n",
            "INFO:root:creating libindic-syllabifier-0.0.1.dev28/tests\n",
            "INFO:root:copying files to libindic-syllabifier-0.0.1.dev28...\n",
            "INFO:root:copying .testr.conf -> libindic-syllabifier-0.0.1.dev28\n",
            "INFO:root:copying .travis.yml -> libindic-syllabifier-0.0.1.dev28\n",
            "INFO:root:copying AUTHORS -> libindic-syllabifier-0.0.1.dev28\n",
            "INFO:root:copying ChangeLog -> libindic-syllabifier-0.0.1.dev28\n",
            "INFO:root:copying Makefile -> libindic-syllabifier-0.0.1.dev28\n",
            "INFO:root:copying README.md -> libindic-syllabifier-0.0.1.dev28\n",
            "INFO:root:copying circle.yml -> libindic-syllabifier-0.0.1.dev28\n",
            "INFO:root:copying requirements.txt -> libindic-syllabifier-0.0.1.dev28\n",
            "INFO:root:copying setup.cfg -> libindic-syllabifier-0.0.1.dev28\n",
            "INFO:root:copying setup.py -> libindic-syllabifier-0.0.1.dev28\n",
            "INFO:root:copying test-requirements.txt -> libindic-syllabifier-0.0.1.dev28\n",
            "INFO:root:copying tox.ini -> libindic-syllabifier-0.0.1.dev28\n",
            "INFO:root:copying docs/Makefile -> libindic-syllabifier-0.0.1.dev28/docs\n",
            "INFO:root:copying docs/conf.py -> libindic-syllabifier-0.0.1.dev28/docs\n",
            "INFO:root:copying docs/index.rst -> libindic-syllabifier-0.0.1.dev28/docs\n",
            "INFO:root:copying docs/make.bat -> libindic-syllabifier-0.0.1.dev28/docs\n",
            "INFO:root:copying docs/_themes/LICENSE -> libindic-syllabifier-0.0.1.dev28/docs/_themes\n",
            "INFO:root:copying docs/_themes/README.rst -> libindic-syllabifier-0.0.1.dev28/docs/_themes\n",
            "INFO:root:copying docs/_themes/flask_theme_support.py -> libindic-syllabifier-0.0.1.dev28/docs/_themes\n",
            "INFO:root:copying docs/_themes/kr/layout.html -> libindic-syllabifier-0.0.1.dev28/docs/_themes/kr\n",
            "INFO:root:copying docs/_themes/kr/relations.html -> libindic-syllabifier-0.0.1.dev28/docs/_themes/kr\n",
            "INFO:root:copying docs/_themes/kr/theme.conf -> libindic-syllabifier-0.0.1.dev28/docs/_themes/kr\n",
            "INFO:root:copying docs/_themes/kr/static/flasky.css_t -> libindic-syllabifier-0.0.1.dev28/docs/_themes/kr/static\n",
            "INFO:root:copying docs/_themes/kr/static/small_flask.css -> libindic-syllabifier-0.0.1.dev28/docs/_themes/kr/static\n",
            "INFO:root:copying docs/_themes/kr_small/layout.html -> libindic-syllabifier-0.0.1.dev28/docs/_themes/kr_small\n",
            "INFO:root:copying docs/_themes/kr_small/theme.conf -> libindic-syllabifier-0.0.1.dev28/docs/_themes/kr_small\n",
            "INFO:root:copying docs/_themes/kr_small/static/flasky.css_t -> libindic-syllabifier-0.0.1.dev28/docs/_themes/kr_small/static\n",
            "INFO:root:copying libindic/syllabifier/__init__.py -> libindic-syllabifier-0.0.1.dev28/libindic/syllabifier\n",
            "INFO:root:copying libindic/syllabifier/core.py -> libindic-syllabifier-0.0.1.dev28/libindic/syllabifier\n",
            "INFO:root:copying libindic/syllabifier/templates/libindic.syllabifier.html -> libindic-syllabifier-0.0.1.dev28/libindic/syllabifier/templates\n",
            "INFO:root:copying libindic/syllabifier/tests/__init__.py -> libindic-syllabifier-0.0.1.dev28/libindic/syllabifier/tests\n",
            "INFO:root:copying libindic/syllabifier/tests/test_indicsyllabifier.py -> libindic-syllabifier-0.0.1.dev28/libindic/syllabifier/tests\n",
            "INFO:root:copying libindic_syllabifier.egg-info/PKG-INFO -> libindic-syllabifier-0.0.1.dev28/libindic_syllabifier.egg-info\n",
            "INFO:root:copying libindic_syllabifier.egg-info/SOURCES.txt -> libindic-syllabifier-0.0.1.dev28/libindic_syllabifier.egg-info\n",
            "INFO:root:copying libindic_syllabifier.egg-info/dependency_links.txt -> libindic-syllabifier-0.0.1.dev28/libindic_syllabifier.egg-info\n",
            "INFO:root:copying libindic_syllabifier.egg-info/namespace_packages.txt -> libindic-syllabifier-0.0.1.dev28/libindic_syllabifier.egg-info\n",
            "INFO:root:copying libindic_syllabifier.egg-info/not-zip-safe -> libindic-syllabifier-0.0.1.dev28/libindic_syllabifier.egg-info\n",
            "INFO:root:copying libindic_syllabifier.egg-info/pbr.json -> libindic-syllabifier-0.0.1.dev28/libindic_syllabifier.egg-info\n",
            "INFO:root:copying libindic_syllabifier.egg-info/requires.txt -> libindic-syllabifier-0.0.1.dev28/libindic_syllabifier.egg-info\n",
            "INFO:root:copying libindic_syllabifier.egg-info/top_level.txt -> libindic-syllabifier-0.0.1.dev28/libindic_syllabifier.egg-info\n",
            "INFO:root:copying tests/__init__.py -> libindic-syllabifier-0.0.1.dev28/tests\n",
            "INFO:root:copying tests/indcsyllabifier_test.py -> libindic-syllabifier-0.0.1.dev28/tests\n",
            "INFO:root:Writing libindic-syllabifier-0.0.1.dev28/setup.cfg\n",
            "INFO:root:creating dist\n",
            "INFO:root:Creating tar archive\n",
            "INFO:root:removing 'libindic-syllabifier-0.0.1.dev28' (and everything under it)\n"
          ]
        }
      ],
      "source": [
        "!git clone https://github.com/libindic/syllabalizer.git\n",
        "%cd syllabalizer\n",
        "%run setup.py sdist"
      ]
    },
    {
      "cell_type": "code",
      "execution_count": 50,
      "metadata": {
        "id": "69ad449e",
        "colab": {
          "base_uri": "https://localhost:8080/",
          "height": 373
        },
        "outputId": "3413ad8c-0987-4411-ce49-f93fb95f44a3"
      },
      "outputs": [
        {
          "output_type": "stream",
          "name": "stdout",
          "text": [
            "Processing ./dist/libindic-syllabifier-0.0.1.dev28.tar.gz\n",
            "  Preparing metadata (setup.py) ... \u001b[?25l\u001b[?25hdone\n",
            "Requirement already satisfied: silpa_common in /usr/local/lib/python3.10/dist-packages (from libindic-syllabifier==0.0.1.dev28) (0.3)\n",
            "Building wheels for collected packages: libindic-syllabifier\n",
            "  Building wheel for libindic-syllabifier (setup.py) ... \u001b[?25l\u001b[?25hdone\n",
            "  Created wheel for libindic-syllabifier: filename=libindic_syllabifier-0.0.1.dev28-py2.py3-none-any.whl size=8122 sha256=91744a6fbe99e6bafdf64653cd6d4cc4c0b26c79f50180db438b3a5875918ac5\n",
            "  Stored in directory: /root/.cache/pip/wheels/a0/fd/80/24c45edb1a60785333ece5126c49573ab43da56a7c13f07d6a\n",
            "Successfully built libindic-syllabifier\n",
            "Installing collected packages: libindic-syllabifier\n",
            "  Attempting uninstall: libindic-syllabifier\n",
            "    Found existing installation: libindic-syllabifier 0.0.1.dev28\n",
            "    Uninstalling libindic-syllabifier-0.0.1.dev28:\n",
            "      Successfully uninstalled libindic-syllabifier-0.0.1.dev28\n",
            "Successfully installed libindic-syllabifier-0.0.1.dev28\n"
          ]
        },
        {
          "output_type": "display_data",
          "data": {
            "application/vnd.colab-display-data+json": {
              "pip_warning": {
                "packages": [
                  "libindic"
                ]
              }
            }
          },
          "metadata": {}
        },
        {
          "output_type": "stream",
          "name": "stdout",
          "text": [
            "Requirement already satisfied: libindic-utils in /usr/local/lib/python3.10/dist-packages (1.0.3)\n"
          ]
        }
      ],
      "source": [
        "!pip install dist/libindic-syllabifier*.tar.gz\n",
        "!pip install libindic-utils"
      ]
    },
    {
      "cell_type": "code",
      "execution_count": 51,
      "metadata": {
        "id": "6284ae93"
      },
      "outputs": [],
      "source": [
        "from libindic.syllabifier import Syllabifier\n",
        "instance = Syllabifier()"
      ]
    },
    {
      "cell_type": "code",
      "execution_count": 52,
      "metadata": {
        "id": "1b8c4488"
      },
      "outputs": [],
      "source": [
        "def syllable(word):\n",
        "    try:\n",
        "        sylbls = instance.syllabify(word)\n",
        "    except:\n",
        "        sylbls = list(word)\n",
        "    return sylbls"
      ]
    },
    {
      "cell_type": "code",
      "execution_count": 53,
      "metadata": {
        "id": "b455b5a0"
      },
      "outputs": [],
      "source": [
        "# generate word n-grams\n",
        "\n",
        "def generate_N_grams(text, ngram=1):\n",
        "    words = [word for word in text.split(\" \")]  # if word not in set(stopwords.words('english'))]\n",
        "    temp = zip(*[words[i:] for i in range(0, ngram)])\n",
        "    ngrams = [' '.join(ngram) for ngram in temp]\n",
        "    return ngrams"
      ]
    },
    {
      "cell_type": "code",
      "execution_count": 54,
      "metadata": {
        "id": "ee5e06af"
      },
      "outputs": [],
      "source": [
        "import regex\n",
        "\n",
        "def custom_analyzer(text):\n",
        "    words = regex.findall(r'\\w{2,}', text) # extract words of at least 2 letters\n",
        "    for w in words:\n",
        "        yield w"
      ]
    },
    {
      "cell_type": "code",
      "execution_count": 55,
      "metadata": {
        "id": "6c355b0e"
      },
      "outputs": [],
      "source": [
        "# generate syllable n-grams by specifying the value of n, by default ngram=1\n",
        "\n",
        "def generate_cN_grams(word, ngram=1):\n",
        "    sylbs = [sylbs for sylbs in syllable(word)]  # if word not in set(stopwords.words('english'))]\n",
        "    temp = zip(*[sylbs[i:] for i in range(0, ngram)])\n",
        "    ngrams = [''.join(ngram) for ngram in temp]\n",
        "    return ngrams"
      ]
    },
    {
      "cell_type": "code",
      "execution_count": 56,
      "metadata": {
        "id": "ef7e4c0b"
      },
      "outputs": [],
      "source": [
        "# generate syllable n-grams in the range 'from' to 'to'. by default 'from'= 1\n",
        "\n",
        "def ngrams(text, r_to, r_from=1):\n",
        "    r_from = 1\n",
        "    r_to = 3\n",
        "    allngrams=[]\n",
        "    for word in text.split():\n",
        "        temp = []\n",
        "        for i in range(r_from + r_to - 1):\n",
        "            temp.extend(generate_cN_grams(word, i+1))\n",
        "            allngrams.append(temp)\n",
        "    n_grams = [item for sublist in allngrams for item in sublist]\n",
        "  # merged = list(itertools.chain(allngrams))\n",
        "    return n_grams"
      ]
    },
    {
      "cell_type": "code",
      "execution_count": 57,
      "metadata": {
        "id": "f46dc420"
      },
      "outputs": [],
      "source": [
        "def custom_analyzer(text):\n",
        "    syngrams = ngrams(text,3)\n",
        "    return syngrams"
      ]
    },
    {
      "cell_type": "code",
      "source": [
        "from sklearn.model_selection import train_test_split"
      ],
      "metadata": {
        "id": "CFf-msNrou_e"
      },
      "execution_count": 58,
      "outputs": []
    },
    {
      "cell_type": "code",
      "source": [
        "data=data.dropna()"
      ],
      "metadata": {
        "id": "kMvhw8IDHFd-"
      },
      "execution_count": 68,
      "outputs": []
    },
    {
      "cell_type": "code",
      "source": [
        "X_train, X_test, y_train, y_test = train_test_split(data['Words'], data['NER Tag'], test_size=0.30, random_state=None)"
      ],
      "metadata": {
        "id": "y-wrBFY03OUB"
      },
      "execution_count": 69,
      "outputs": []
    },
    {
      "cell_type": "code",
      "source": [
        "from sklearn.model_selection import train_test_split\n",
        "X_train=data['Words']\n",
        "y_train=data['NER Tag']\n",
        "#X_test=df_dev['text']\n",
        "#y_test=df_dev['tag']"
      ],
      "metadata": {
        "id": "dZ51HygfwBpK"
      },
      "execution_count": 70,
      "outputs": []
    },
    {
      "cell_type": "code",
      "execution_count": 71,
      "metadata": {
        "id": "e3c48356"
      },
      "outputs": [],
      "source": [
        "tfidf_vectorizer = TfidfVectorizer(analyzer=custom_analyzer)\n",
        "tfidf_vectorizer.fit_transform(X_train)\n",
        "train_tfidf1 =  tfidf_vectorizer.transform(X_train)\n",
        "dev_tfidf1=tfidf_vectorizer.transform(X_test)"
      ]
    },
    {
      "cell_type": "code",
      "source": [
        "data = data.dropna() # drop rows with nan values\n",
        "print(data)\n"
      ],
      "metadata": {
        "colab": {
          "base_uri": "https://localhost:8080/"
        },
        "id": "Lmc7JqyDqhRe",
        "outputId": "e56cfb7e-a793-49f7-bf11-8e5d5c944127"
      },
      "execution_count": 72,
      "outputs": [
        {
          "output_type": "stream",
          "name": "stdout",
          "text": [
            "              Words NER Tag\n",
            "0            ದಕ್ಷಿಣ   B-LOC\n",
            "1             ಕನ್ನಡ   I-LOC\n",
            "2          ಜಿಲ್ಲೆಗ್   B-GPE\n",
            "3            ತುರ್ತು   B-MED\n",
            "4          ಆಕ್ಸಿಜನ್   B-MED\n",
            "...             ...     ...\n",
            "20202        ದಕ್ಷಿಣ   B-LOC\n",
            "20203         ಕನ್ನಡ   I-LOC\n",
            "20204  ಜಿಲ್ಲಾಡಳಿತಗ್   B-GPE\n",
            "20205      ಕೊರ್ತೆರ್       O\n",
            "20206             .       O\n",
            "\n",
            "[20173 rows x 2 columns]\n"
          ]
        }
      ]
    },
    {
      "cell_type": "code",
      "source": [
        "from sklearn import svm\n",
        "clf1= svm.SVC()\n",
        "clf1.fit(train_tfidf1 ,y_train)\n",
        "val_pred1=clf1.predict(dev_tfidf1)"
      ],
      "metadata": {
        "id": "CiO0ZSBR5RoO"
      },
      "execution_count": 73,
      "outputs": []
    },
    {
      "cell_type": "code",
      "source": [
        "from sklearn.metrics import classification_report\n",
        "print(classification_report(y_test, val_pred1))"
      ],
      "metadata": {
        "id": "N4a_VLvV65Mo",
        "colab": {
          "base_uri": "https://localhost:8080/"
        },
        "outputId": "05c35518-7953-4249-86e6-84268f1c4cad"
      },
      "execution_count": 74,
      "outputs": [
        {
          "output_type": "stream",
          "name": "stderr",
          "text": [
            "/usr/local/lib/python3.10/dist-packages/sklearn/metrics/_classification.py:1344: UndefinedMetricWarning: Precision and F-score are ill-defined and being set to 0.0 in labels with no predicted samples. Use `zero_division` parameter to control this behavior.\n",
            "  _warn_prf(average, modifier, msg_start, len(result))\n",
            "/usr/local/lib/python3.10/dist-packages/sklearn/metrics/_classification.py:1344: UndefinedMetricWarning: Precision and F-score are ill-defined and being set to 0.0 in labels with no predicted samples. Use `zero_division` parameter to control this behavior.\n",
            "  _warn_prf(average, modifier, msg_start, len(result))\n"
          ]
        },
        {
          "output_type": "stream",
          "name": "stdout",
          "text": [
            "              precision    recall  f1-score   support\n",
            "\n",
            "       B-ACD       0.80      0.83      0.82       234\n",
            "       B-COM       0.94      0.81      0.87        54\n",
            "      B-DATE       0.91      0.92      0.91       199\n",
            "       B-ENT       0.87      0.62      0.72        21\n",
            "       B-FAM       0.84      0.82      0.83        92\n",
            "       B-FUN       0.77      0.64      0.70        72\n",
            "       B-GPE       0.80      0.90      0.85        82\n",
            "       B-GRC       0.69      0.90      0.78        10\n",
            "       B-LEF       0.92      0.81      0.86        80\n",
            "       B-LOC       0.83      0.93      0.88       236\n",
            "       B-MED       0.84      0.82      0.83       172\n",
            "       B-NUM       0.97      1.00      0.98       184\n",
            "       B-ORG       0.78      0.67      0.72       214\n",
            "       B-PER       0.88      0.91      0.90       185\n",
            "       B-POL       0.79      0.80      0.79       173\n",
            "       B-ROL       0.88      0.85      0.86       213\n",
            "       B-SPT       1.00      1.00      1.00         1\n",
            "       B-TRS       0.87      0.75      0.81        36\n",
            "       I-ACD       0.82      0.51      0.63        83\n",
            "       I-COM       0.00      0.00      0.00         2\n",
            "      I-DATE       0.73      0.33      0.46        24\n",
            "       I-ENT       1.00      0.33      0.50         9\n",
            "       I-FAM       0.00      0.00      0.00        12\n",
            "       I-FUN       0.92      0.32      0.48        34\n",
            "       I-GPE       0.00      0.00      0.00         3\n",
            "       I-GRC       0.00      0.00      0.00         3\n",
            "       I-LEF       1.00      0.45      0.62        22\n",
            "       I-LOC       0.80      0.48      0.60        73\n",
            "       I-MED       0.77      0.52      0.62        88\n",
            "       I-NUM       0.00      0.00      0.00         3\n",
            "       I-ORG       0.77      0.80      0.79       256\n",
            "       I-PER       0.90      0.87      0.89       197\n",
            "       I-POL       1.00      0.24      0.39        33\n",
            "       I-ROL       0.85      0.57      0.68        51\n",
            "       I-SPT       0.00      0.00      0.00         1\n",
            "       I-TRS       1.00      0.31      0.47        13\n",
            "           O       0.92      0.99      0.95      2886\n",
            "           o       0.00      0.00      0.00         1\n",
            "\n",
            "    accuracy                           0.88      6052\n",
            "   macro avg       0.71      0.57      0.61      6052\n",
            "weighted avg       0.88      0.88      0.87      6052\n",
            "\n"
          ]
        },
        {
          "output_type": "stream",
          "name": "stderr",
          "text": [
            "/usr/local/lib/python3.10/dist-packages/sklearn/metrics/_classification.py:1344: UndefinedMetricWarning: Precision and F-score are ill-defined and being set to 0.0 in labels with no predicted samples. Use `zero_division` parameter to control this behavior.\n",
            "  _warn_prf(average, modifier, msg_start, len(result))\n"
          ]
        }
      ]
    },
    {
      "cell_type": "code",
      "source": [
        "from sklearn.linear_model import LogisticRegression\n",
        "clf2=LogisticRegression(solver='liblinear', multi_class='ovr')\n",
        "clf2.fit(train_tfidf1, y_train)\n",
        "val_pred2=clf2.predict(dev_tfidf1)"
      ],
      "metadata": {
        "id": "4reyQMPRrUa4"
      },
      "execution_count": 75,
      "outputs": []
    },
    {
      "cell_type": "code",
      "source": [
        "from sklearn.metrics import classification_report\n",
        "print(classification_report(y_test, val_pred2))"
      ],
      "metadata": {
        "id": "fr20sPSLsRHz",
        "colab": {
          "base_uri": "https://localhost:8080/"
        },
        "outputId": "ded39c1e-f136-4a26-adb2-a42c18ab0612"
      },
      "execution_count": 76,
      "outputs": [
        {
          "output_type": "stream",
          "name": "stdout",
          "text": [
            "              precision    recall  f1-score   support\n",
            "\n",
            "       B-ACD       0.72      0.55      0.63       234\n",
            "       B-COM       0.91      0.59      0.72        54\n",
            "      B-DATE       0.91      0.82      0.86       199\n",
            "       B-ENT       1.00      0.05      0.09        21\n",
            "       B-FAM       0.80      0.58      0.67        92\n",
            "       B-FUN       0.74      0.32      0.45        72\n",
            "       B-GPE       0.72      0.77      0.74        82\n",
            "       B-GRC       0.00      0.00      0.00        10\n",
            "       B-LEF       0.89      0.41      0.56        80\n",
            "       B-LOC       0.78      0.61      0.69       236\n",
            "       B-MED       0.80      0.71      0.75       172\n",
            "       B-NUM       0.96      0.98      0.97       184\n",
            "       B-ORG       0.67      0.39      0.49       214\n",
            "       B-PER       0.81      0.58      0.68       185\n",
            "       B-POL       0.76      0.54      0.64       173\n",
            "       B-ROL       0.78      0.57      0.66       213\n",
            "       B-SPT       0.00      0.00      0.00         1\n",
            "       B-TRS       0.80      0.56      0.66        36\n",
            "       I-ACD       0.79      0.18      0.29        83\n",
            "       I-COM       0.00      0.00      0.00         2\n",
            "      I-DATE       0.67      0.25      0.36        24\n",
            "       I-ENT       0.00      0.00      0.00         9\n",
            "       I-FAM       0.00      0.00      0.00        12\n",
            "       I-FUN       0.00      0.00      0.00        34\n",
            "       I-GPE       0.00      0.00      0.00         3\n",
            "       I-GRC       0.00      0.00      0.00         3\n",
            "       I-LEF       1.00      0.05      0.09        22\n",
            "       I-LOC       0.71      0.27      0.40        73\n",
            "       I-MED       0.71      0.25      0.37        88\n",
            "       I-NUM       0.00      0.00      0.00         3\n",
            "       I-ORG       0.71      0.57      0.63       256\n",
            "       I-PER       0.86      0.42      0.56       197\n",
            "       I-POL       1.00      0.09      0.17        33\n",
            "       I-ROL       0.80      0.31      0.45        51\n",
            "       I-SPT       0.00      0.00      0.00         1\n",
            "       I-TRS       1.00      0.08      0.14        13\n",
            "           O       0.73      0.99      0.84      2886\n",
            "           o       0.00      0.00      0.00         1\n",
            "\n",
            "    accuracy                           0.75      6052\n",
            "   macro avg       0.58      0.33      0.38      6052\n",
            "weighted avg       0.75      0.75      0.72      6052\n",
            "\n"
          ]
        },
        {
          "output_type": "stream",
          "name": "stderr",
          "text": [
            "/usr/local/lib/python3.10/dist-packages/sklearn/metrics/_classification.py:1344: UndefinedMetricWarning: Precision and F-score are ill-defined and being set to 0.0 in labels with no predicted samples. Use `zero_division` parameter to control this behavior.\n",
            "  _warn_prf(average, modifier, msg_start, len(result))\n",
            "/usr/local/lib/python3.10/dist-packages/sklearn/metrics/_classification.py:1344: UndefinedMetricWarning: Precision and F-score are ill-defined and being set to 0.0 in labels with no predicted samples. Use `zero_division` parameter to control this behavior.\n",
            "  _warn_prf(average, modifier, msg_start, len(result))\n",
            "/usr/local/lib/python3.10/dist-packages/sklearn/metrics/_classification.py:1344: UndefinedMetricWarning: Precision and F-score are ill-defined and being set to 0.0 in labels with no predicted samples. Use `zero_division` parameter to control this behavior.\n",
            "  _warn_prf(average, modifier, msg_start, len(result))\n"
          ]
        }
      ]
    },
    {
      "cell_type": "code",
      "source": [
        "from sklearn.naive_bayes import MultinomialNB\n",
        "clf3 = MultinomialNB(force_alpha=True)\n",
        "clf3.fit(train_tfidf1, y_train)\n",
        "val_pred3=clf3.predict(dev_tfidf1)"
      ],
      "metadata": {
        "id": "glGCaE2qsVRi"
      },
      "execution_count": 77,
      "outputs": []
    },
    {
      "cell_type": "code",
      "source": [
        "from sklearn.metrics import classification_report\n",
        "print(classification_report(y_test, val_pred3))"
      ],
      "metadata": {
        "id": "1YVXP2k3sqGO",
        "colab": {
          "base_uri": "https://localhost:8080/"
        },
        "outputId": "a9ff7ef5-a143-4a4f-e6fc-2d45217dc0db"
      },
      "execution_count": 78,
      "outputs": [
        {
          "output_type": "stream",
          "name": "stdout",
          "text": [
            "              precision    recall  f1-score   support\n",
            "\n",
            "       B-ACD       0.70      0.32      0.44       234\n",
            "       B-COM       0.00      0.00      0.00        54\n",
            "      B-DATE       0.92      0.58      0.71       199\n",
            "       B-ENT       0.00      0.00      0.00        21\n",
            "       B-FAM       1.00      0.10      0.18        92\n",
            "       B-FUN       0.82      0.12      0.22        72\n",
            "       B-GPE       0.66      0.43      0.52        82\n",
            "       B-GRC       0.00      0.00      0.00        10\n",
            "       B-LEF       0.00      0.00      0.00        80\n",
            "       B-LOC       0.80      0.40      0.54       236\n",
            "       B-MED       0.79      0.64      0.71       172\n",
            "       B-NUM       0.96      0.96      0.96       184\n",
            "       B-ORG       0.76      0.24      0.36       214\n",
            "       B-PER       0.85      0.29      0.43       185\n",
            "       B-POL       0.87      0.31      0.45       173\n",
            "       B-ROL       0.71      0.45      0.55       213\n",
            "       B-SPT       0.00      0.00      0.00         1\n",
            "       B-TRS       0.00      0.00      0.00        36\n",
            "       I-ACD       0.75      0.11      0.19        83\n",
            "       I-COM       0.00      0.00      0.00         2\n",
            "      I-DATE       0.00      0.00      0.00        24\n",
            "       I-ENT       0.00      0.00      0.00         9\n",
            "       I-FAM       0.00      0.00      0.00        12\n",
            "       I-FUN       0.00      0.00      0.00        34\n",
            "       I-GPE       0.00      0.00      0.00         3\n",
            "       I-GRC       0.00      0.00      0.00         3\n",
            "       I-LEF       0.00      0.00      0.00        22\n",
            "       I-LOC       0.77      0.14      0.23        73\n",
            "       I-MED       0.67      0.05      0.09        88\n",
            "       I-NUM       0.00      0.00      0.00         3\n",
            "       I-ORG       0.73      0.43      0.54       256\n",
            "       I-PER       0.94      0.24      0.39       197\n",
            "       I-POL       0.00      0.00      0.00        33\n",
            "       I-ROL       1.00      0.04      0.08        51\n",
            "       I-SPT       0.00      0.00      0.00         1\n",
            "       I-TRS       0.00      0.00      0.00        13\n",
            "           O       0.61      1.00      0.76      2886\n",
            "           o       0.00      0.00      0.00         1\n",
            "\n",
            "    accuracy                           0.65      6052\n",
            "   macro avg       0.40      0.18      0.22      6052\n",
            "weighted avg       0.67      0.65      0.58      6052\n",
            "\n"
          ]
        },
        {
          "output_type": "stream",
          "name": "stderr",
          "text": [
            "/usr/local/lib/python3.10/dist-packages/sklearn/metrics/_classification.py:1344: UndefinedMetricWarning: Precision and F-score are ill-defined and being set to 0.0 in labels with no predicted samples. Use `zero_division` parameter to control this behavior.\n",
            "  _warn_prf(average, modifier, msg_start, len(result))\n",
            "/usr/local/lib/python3.10/dist-packages/sklearn/metrics/_classification.py:1344: UndefinedMetricWarning: Precision and F-score are ill-defined and being set to 0.0 in labels with no predicted samples. Use `zero_division` parameter to control this behavior.\n",
            "  _warn_prf(average, modifier, msg_start, len(result))\n",
            "/usr/local/lib/python3.10/dist-packages/sklearn/metrics/_classification.py:1344: UndefinedMetricWarning: Precision and F-score are ill-defined and being set to 0.0 in labels with no predicted samples. Use `zero_division` parameter to control this behavior.\n",
            "  _warn_prf(average, modifier, msg_start, len(result))\n"
          ]
        }
      ]
    },
    {
      "cell_type": "code",
      "source": [
        "from sklearn.tree import DecisionTreeClassifier\n",
        "clf4 = DecisionTreeClassifier(random_state=0)\n",
        "clf4.fit(train_tfidf1, y_train)\n",
        "val_pred4=clf4.predict(dev_tfidf1)"
      ],
      "metadata": {
        "id": "iWLJhhpfs8S5"
      },
      "execution_count": 79,
      "outputs": []
    },
    {
      "cell_type": "code",
      "source": [
        "from sklearn.metrics import classification_report\n",
        "print(classification_report(y_test, val_pred4))"
      ],
      "metadata": {
        "id": "ijlyO7aLtKoC",
        "colab": {
          "base_uri": "https://localhost:8080/"
        },
        "outputId": "faebfddd-be84-4de5-98e8-1136672e7f60"
      },
      "execution_count": 80,
      "outputs": [
        {
          "output_type": "stream",
          "name": "stdout",
          "text": [
            "              precision    recall  f1-score   support\n",
            "\n",
            "       B-ACD       0.81      0.89      0.85       234\n",
            "       B-COM       0.94      0.94      0.94        54\n",
            "      B-DATE       0.93      0.98      0.95       199\n",
            "       B-ENT       0.76      0.90      0.83        21\n",
            "       B-FAM       0.90      0.97      0.93        92\n",
            "       B-FUN       0.78      0.86      0.82        72\n",
            "       B-GPE       0.77      0.94      0.85        82\n",
            "       B-GRC       0.71      1.00      0.83        10\n",
            "       B-LEF       0.93      0.97      0.95        80\n",
            "       B-LOC       0.88      0.97      0.92       236\n",
            "       B-MED       0.83      0.90      0.86       172\n",
            "       B-NUM       0.97      1.00      0.99       184\n",
            "       B-ORG       0.76      0.74      0.75       214\n",
            "       B-PER       0.88      0.93      0.90       185\n",
            "       B-POL       0.82      0.91      0.86       173\n",
            "       B-ROL       0.89      0.87      0.88       213\n",
            "       B-SPT       1.00      1.00      1.00         1\n",
            "       B-TRS       0.94      0.94      0.94        36\n",
            "       I-ACD       0.79      0.70      0.74        83\n",
            "       I-COM       1.00      1.00      1.00         2\n",
            "      I-DATE       0.81      0.54      0.65        24\n",
            "       I-ENT       1.00      0.67      0.80         9\n",
            "       I-FAM       1.00      0.42      0.59        12\n",
            "       I-FUN       0.92      0.68      0.78        34\n",
            "       I-GPE       1.00      0.33      0.50         3\n",
            "       I-GRC       0.67      0.67      0.67         3\n",
            "       I-LEF       0.90      0.82      0.86        22\n",
            "       I-LOC       0.84      0.79      0.82        73\n",
            "       I-MED       0.75      0.64      0.69        88\n",
            "       I-NUM       1.00      0.33      0.50         3\n",
            "       I-ORG       0.81      0.77      0.79       256\n",
            "       I-PER       0.95      0.85      0.90       197\n",
            "       I-POL       0.78      0.64      0.70        33\n",
            "       I-ROL       0.88      0.69      0.77        51\n",
            "       I-SPT       1.00      1.00      1.00         1\n",
            "       I-TRS       0.75      0.69      0.72        13\n",
            "           O       0.99      0.98      0.99      2886\n",
            "           o       0.00      0.00      0.00         1\n",
            "\n",
            "    accuracy                           0.92      6052\n",
            "   macro avg       0.85      0.79      0.80      6052\n",
            "weighted avg       0.92      0.92      0.92      6052\n",
            "\n"
          ]
        },
        {
          "output_type": "stream",
          "name": "stderr",
          "text": [
            "/usr/local/lib/python3.10/dist-packages/sklearn/metrics/_classification.py:1344: UndefinedMetricWarning: Precision and F-score are ill-defined and being set to 0.0 in labels with no predicted samples. Use `zero_division` parameter to control this behavior.\n",
            "  _warn_prf(average, modifier, msg_start, len(result))\n",
            "/usr/local/lib/python3.10/dist-packages/sklearn/metrics/_classification.py:1344: UndefinedMetricWarning: Precision and F-score are ill-defined and being set to 0.0 in labels with no predicted samples. Use `zero_division` parameter to control this behavior.\n",
            "  _warn_prf(average, modifier, msg_start, len(result))\n",
            "/usr/local/lib/python3.10/dist-packages/sklearn/metrics/_classification.py:1344: UndefinedMetricWarning: Precision and F-score are ill-defined and being set to 0.0 in labels with no predicted samples. Use `zero_division` parameter to control this behavior.\n",
            "  _warn_prf(average, modifier, msg_start, len(result))\n"
          ]
        }
      ]
    },
    {
      "cell_type": "code",
      "source": [
        "from sklearn.neighbors import KNeighborsClassifier\n",
        "clf5 = KNeighborsClassifier(n_neighbors=3)\n",
        "clf5.fit(train_tfidf1, y_train)\n",
        "val_pred5=clf5.predict(dev_tfidf1)"
      ],
      "metadata": {
        "id": "47fFJmyrtfrW"
      },
      "execution_count": 81,
      "outputs": []
    },
    {
      "cell_type": "code",
      "source": [
        "from sklearn.metrics import classification_report\n",
        "print(classification_report(y_test, val_pred5))"
      ],
      "metadata": {
        "id": "19JYxssHuP6U",
        "colab": {
          "base_uri": "https://localhost:8080/"
        },
        "outputId": "fc0f9759-2957-4924-cfe0-b0c6cb8d0348"
      },
      "execution_count": 82,
      "outputs": [
        {
          "output_type": "stream",
          "name": "stdout",
          "text": [
            "              precision    recall  f1-score   support\n",
            "\n",
            "       B-ACD       0.62      0.82      0.71       234\n",
            "       B-COM       0.75      0.87      0.80        54\n",
            "      B-DATE       0.78      0.92      0.85       199\n",
            "       B-ENT       0.65      0.71      0.68        21\n",
            "       B-FAM       0.76      0.83      0.79        92\n",
            "       B-FUN       0.56      0.68      0.62        72\n",
            "       B-GPE       0.68      0.80      0.74        82\n",
            "       B-GRC       0.62      1.00      0.77        10\n",
            "       B-LEF       0.78      0.85      0.81        80\n",
            "       B-LOC       0.73      0.80      0.76       236\n",
            "       B-MED       0.73      0.84      0.78       172\n",
            "       B-NUM       0.96      0.99      0.98       184\n",
            "       B-ORG       0.60      0.52      0.56       214\n",
            "       B-PER       0.72      0.72      0.72       185\n",
            "       B-POL       0.72      0.75      0.73       173\n",
            "       B-ROL       0.79      0.74      0.77       213\n",
            "       B-SPT       0.50      1.00      0.67         1\n",
            "       B-TRS       0.72      0.72      0.72        36\n",
            "       I-ACD       0.71      0.48      0.58        83\n",
            "       I-COM       1.00      0.50      0.67         2\n",
            "      I-DATE       0.88      0.29      0.44        24\n",
            "       I-ENT       1.00      0.33      0.50         9\n",
            "       I-FAM       0.00      0.00      0.00        12\n",
            "       I-FUN       0.83      0.44      0.58        34\n",
            "       I-GPE       0.00      0.00      0.00         3\n",
            "       I-GRC       0.00      0.00      0.00         3\n",
            "       I-LEF       0.62      0.59      0.60        22\n",
            "       I-LOC       0.54      0.45      0.49        73\n",
            "       I-MED       0.60      0.58      0.59        88\n",
            "       I-NUM       1.00      0.33      0.50         3\n",
            "       I-ORG       0.67      0.58      0.62       256\n",
            "       I-PER       0.78      0.65      0.71       197\n",
            "       I-POL       0.92      0.36      0.52        33\n",
            "       I-ROL       0.64      0.45      0.53        51\n",
            "       I-SPT       0.00      0.00      0.00         1\n",
            "       I-TRS       0.40      0.31      0.35        13\n",
            "           O       0.95      0.96      0.95      2886\n",
            "           o       0.00      0.00      0.00         1\n",
            "\n",
            "    accuracy                           0.83      6052\n",
            "   macro avg       0.64      0.58      0.58      6052\n",
            "weighted avg       0.83      0.83      0.83      6052\n",
            "\n"
          ]
        },
        {
          "output_type": "stream",
          "name": "stderr",
          "text": [
            "/usr/local/lib/python3.10/dist-packages/sklearn/metrics/_classification.py:1344: UndefinedMetricWarning: Precision and F-score are ill-defined and being set to 0.0 in labels with no predicted samples. Use `zero_division` parameter to control this behavior.\n",
            "  _warn_prf(average, modifier, msg_start, len(result))\n",
            "/usr/local/lib/python3.10/dist-packages/sklearn/metrics/_classification.py:1344: UndefinedMetricWarning: Precision and F-score are ill-defined and being set to 0.0 in labels with no predicted samples. Use `zero_division` parameter to control this behavior.\n",
            "  _warn_prf(average, modifier, msg_start, len(result))\n",
            "/usr/local/lib/python3.10/dist-packages/sklearn/metrics/_classification.py:1344: UndefinedMetricWarning: Precision and F-score are ill-defined and being set to 0.0 in labels with no predicted samples. Use `zero_division` parameter to control this behavior.\n",
            "  _warn_prf(average, modifier, msg_start, len(result))\n"
          ]
        }
      ]
    }
  ]
}