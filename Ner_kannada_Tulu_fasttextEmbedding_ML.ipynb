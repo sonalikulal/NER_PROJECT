{
 "cells": [
  {
   "cell_type": "code",
   "execution_count": 1,
   "metadata": {
    "executionInfo": {
     "elapsed": 5,
     "status": "ok",
     "timestamp": 1707457111371,
     "user": {
      "displayName": "Kulal sonali",
      "userId": "16929216952012382603"
     },
     "user_tz": -330
    },
    "id": "8uN1414xTUPx"
   },
   "outputs": [],
   "source": [
    "import pandas as pd\n",
    "import numpy as np"
   ]
  },
  {
   "cell_type": "code",
   "execution_count": 2,
   "metadata": {
    "executionInfo": {
     "elapsed": 5,
     "status": "ok",
     "timestamp": 1707457111372,
     "user": {
      "displayName": "Kulal sonali",
      "userId": "16929216952012382603"
     },
     "user_tz": -330
    },
    "id": "xN6ke-t4YX5x"
   },
   "outputs": [],
   "source": [
    "data=pd.read_csv('Tulu_NER - Tulu_NER.csv')"
   ]
  },
  {
   "cell_type": "code",
   "execution_count": 3,
   "metadata": {
    "colab": {
     "base_uri": "https://localhost:8080/",
     "height": 206
    },
    "executionInfo": {
     "elapsed": 5,
     "status": "ok",
     "timestamp": 1707457111372,
     "user": {
      "displayName": "Kulal sonali",
      "userId": "16929216952012382603"
     },
     "user_tz": -330
    },
    "id": "d-msB-KdSJJR",
    "outputId": "c0220166-51cc-4292-9ab7-e848d0859343"
   },
   "outputs": [
    {
     "data": {
      "text/html": [
       "<div>\n",
       "<style scoped>\n",
       "    .dataframe tbody tr th:only-of-type {\n",
       "        vertical-align: middle;\n",
       "    }\n",
       "\n",
       "    .dataframe tbody tr th {\n",
       "        vertical-align: top;\n",
       "    }\n",
       "\n",
       "    .dataframe thead th {\n",
       "        text-align: right;\n",
       "    }\n",
       "</style>\n",
       "<table border=\"1\" class=\"dataframe\">\n",
       "  <thead>\n",
       "    <tr style=\"text-align: right;\">\n",
       "      <th></th>\n",
       "      <th>Words</th>\n",
       "      <th>NER_Tag</th>\n",
       "    </tr>\n",
       "  </thead>\n",
       "  <tbody>\n",
       "    <tr>\n",
       "      <th>0</th>\n",
       "      <td>ದಕ್ಷಿಣ</td>\n",
       "      <td>B-LOC</td>\n",
       "    </tr>\n",
       "    <tr>\n",
       "      <th>1</th>\n",
       "      <td>ಕನ್ನಡ</td>\n",
       "      <td>I-LOC</td>\n",
       "    </tr>\n",
       "    <tr>\n",
       "      <th>2</th>\n",
       "      <td>ಜಿಲ್ಲೆಗ್</td>\n",
       "      <td>B-GPE</td>\n",
       "    </tr>\n",
       "    <tr>\n",
       "      <th>3</th>\n",
       "      <td>ತುರ್ತು</td>\n",
       "      <td>B-MED</td>\n",
       "    </tr>\n",
       "    <tr>\n",
       "      <th>4</th>\n",
       "      <td>ಆಕ್ಸಿಜನ್</td>\n",
       "      <td>B-MED</td>\n",
       "    </tr>\n",
       "  </tbody>\n",
       "</table>\n",
       "</div>"
      ],
      "text/plain": [
       "      Words NER_Tag\n",
       "0    ದಕ್ಷಿಣ   B-LOC\n",
       "1     ಕನ್ನಡ   I-LOC\n",
       "2  ಜಿಲ್ಲೆಗ್   B-GPE\n",
       "3    ತುರ್ತು   B-MED\n",
       "4  ಆಕ್ಸಿಜನ್   B-MED"
      ]
     },
     "execution_count": 3,
     "metadata": {},
     "output_type": "execute_result"
    }
   ],
   "source": [
    "data.head(5)"
   ]
  },
  {
   "cell_type": "code",
   "execution_count": 4,
   "metadata": {
    "executionInfo": {
     "elapsed": 4,
     "status": "ok",
     "timestamp": 1707457111372,
     "user": {
      "displayName": "Kulal sonali",
      "userId": "16929216952012382603"
     },
     "user_tz": -330
    },
    "id": "31Dkmq5zTzUB"
   },
   "outputs": [],
   "source": [
    "from textblob import TextBlob\n",
    "#import emot\n",
    "import nltk.data\n",
    "import numpy as np\n",
    "import re\n",
    "import time\n",
    "import string\n",
    "#import emoji\n",
    "#import demoji\n",
    "#import contractions\n",
    "import nltk\n",
    "from nltk.corpus import stopwords"
   ]
  },
  {
   "cell_type": "code",
   "execution_count": 5,
   "metadata": {
    "executionInfo": {
     "elapsed": 3,
     "status": "ok",
     "timestamp": 1707457111372,
     "user": {
      "displayName": "Kulal sonali",
      "userId": "16929216952012382603"
     },
     "user_tz": -330
    },
    "id": "tWIk9ueuUCRa"
   },
   "outputs": [],
   "source": [
    "from sklearn.preprocessing import LabelEncoder\n",
    "label_encoder = LabelEncoder()\n",
    "y = label_encoder.fit_transform(data['NER_Tag'])\n",
    "#y_test =label_encoder.transform(y_test)"
   ]
  },
  {
   "cell_type": "code",
   "execution_count": 6,
   "metadata": {
    "id": "gBrFY5OFa920"
   },
   "outputs": [],
   "source": [
    "# y_test"
   ]
  },
  {
   "cell_type": "code",
   "execution_count": 7,
   "metadata": {
    "executionInfo": {
     "elapsed": 167351,
     "status": "ok",
     "timestamp": 1707457278720,
     "user": {
      "displayName": "Kulal sonali",
      "userId": "16929216952012382603"
     },
     "user_tz": -330
    },
    "id": "kuBHztWDUGWB"
   },
   "outputs": [],
   "source": [
    "from tqdm import tqdm #dont run this\n",
    "benvocab = []\n",
    "embedding_index_kan = {}\n",
    "f1 = open('C:/Users/CCL/Downloads/cc.kn.300 (1).vec/cc.kn.300.vec',encoding='utf-8')\n",
    "for line in f1:\n",
    "        values = line.rstrip().split(' ')\n",
    "        word = values[0]\n",
    "        benvocab.append(word)\n",
    "        coefs = np.asarray(values[1:], dtype='float32')\n",
    "        embedding_index_kan[word] = coefs"
   ]
  },
  {
   "cell_type": "code",
   "execution_count": 8,
   "metadata": {
    "executionInfo": {
     "elapsed": 1715,
     "status": "ok",
     "timestamp": 1707457280424,
     "user": {
      "displayName": "Kulal sonali",
      "userId": "16929216952012382603"
     },
     "user_tz": -330
    },
    "id": "XNgIR76LTOhN"
   },
   "outputs": [],
   "source": [
    "from tqdm import tqdm #dont run this\n",
    "benvocab1 = []\n",
    "embedding_index_tul = {}\n",
    "f2 = open('wiki.tcy (2).vec',encoding='utf-8')\n",
    "for line in f2:\n",
    "        values = line.rstrip().split(' ')\n",
    "        word = values[0]\n",
    "        benvocab1.append(word)\n",
    "        coefs = np.asarray(values[1:], dtype='float32')\n",
    "        embedding_index_tul[word] = coefs"
   ]
  },
  {
   "cell_type": "code",
   "execution_count": 9,
   "metadata": {
    "executionInfo": {
     "elapsed": 4,
     "status": "ok",
     "timestamp": 1707457284206,
     "user": {
      "displayName": "Kulal sonali",
      "userId": "16929216952012382603"
     },
     "user_tz": -330
    },
    "id": "qIPK7U34FClR"
   },
   "outputs": [],
   "source": [
    "embedding_index_kan.update(embedding_index_tul)"
   ]
  },
  {
   "cell_type": "code",
   "execution_count": 10,
   "metadata": {
    "executionInfo": {
     "elapsed": 51232,
     "status": "ok",
     "timestamp": 1707457338544,
     "user": {
      "displayName": "Kulal sonali",
      "userId": "16929216952012382603"
     },
     "user_tz": -330
    },
    "id": "QPtETs9PH0IV"
   },
   "outputs": [],
   "source": [
    "import pickle #dont run this\n",
    "with open('embedding_index_kan.pkl', 'wb') as f:  # open a text file\n",
    "    pickle.dump(embedding_index_kan, f) # serialize the list"
   ]
  },
  {
   "cell_type": "code",
   "execution_count": 11,
   "metadata": {
    "executionInfo": {
     "elapsed": 2,
     "status": "ok",
     "timestamp": 1707457338544,
     "user": {
      "displayName": "Kulal sonali",
      "userId": "16929216952012382603"
     },
     "user_tz": -330
    },
    "id": "82rcYs_jUKty"
   },
   "outputs": [],
   "source": [
    "def get_vectors(sentence):# dont run\n",
    "    sentvec = np.zeros(300)\n",
    "    zeros = np.zeros(300)\n",
    "\n",
    "    for word in sentence.split():\n",
    "        if word in benvocab:\n",
    "             temp = embedding_index_kan[word]\n",
    "        else: temp = zeros\n",
    "        # print('word : ', word, ' ttt : ', temp)\n",
    "        sentvec += temp\n",
    "\n",
    "    sentvec = sentvec / len(sentence.split())\n",
    "    return sentvec"
   ]
  },
  {
   "cell_type": "code",
   "execution_count": 12,
   "metadata": {
    "executionInfo": {
     "elapsed": 1,
     "status": "ok",
     "timestamp": 1707457344968,
     "user": {
      "displayName": "Kulal sonali",
      "userId": "16929216952012382603"
     },
     "user_tz": -330
    },
    "id": "AW1xBYapZOAZ"
   },
   "outputs": [],
   "source": [
    "x=data['Words'].tolist()"
   ]
  },
  {
   "cell_type": "code",
   "execution_count": 13,
   "metadata": {
    "executionInfo": {
     "elapsed": 3,
     "status": "ok",
     "timestamp": 1707457345957,
     "user": {
      "displayName": "Kulal sonali",
      "userId": "16929216952012382603"
     },
     "user_tz": -330
    },
    "id": "NDqj9e-UamGU"
   },
   "outputs": [],
   "source": [
    "X=pd.DataFrame(x)\n",
    "Y=pd.DataFrame(y)"
   ]
  },
  {
   "cell_type": "code",
   "execution_count": 14,
   "metadata": {
    "executionInfo": {
     "elapsed": 608,
     "status": "ok",
     "timestamp": 1707457347147,
     "user": {
      "displayName": "Kulal sonali",
      "userId": "16929216952012382603"
     },
     "user_tz": -330
    },
    "id": "SMpJA0rJRy4x"
   },
   "outputs": [],
   "source": [
    "X=X.rename(columns={0:'Words'})"
   ]
  },
  {
   "cell_type": "code",
   "execution_count": 15,
   "metadata": {
    "executionInfo": {
     "elapsed": 4,
     "status": "ok",
     "timestamp": 1707457348908,
     "user": {
      "displayName": "Kulal sonali",
      "userId": "16929216952012382603"
     },
     "user_tz": -330
    },
    "id": "4gaD4x9dSJ0B"
   },
   "outputs": [],
   "source": [
    "Y=Y.rename(columns={0:'NER_Tag'})"
   ]
  },
  {
   "cell_type": "code",
   "execution_count": 16,
   "metadata": {
    "executionInfo": {
     "elapsed": 1,
     "status": "ok",
     "timestamp": 1707457349299,
     "user": {
      "displayName": "Kulal sonali",
      "userId": "16929216952012382603"
     },
     "user_tz": -330
    },
    "id": "4T3ozd8zavJF"
   },
   "outputs": [],
   "source": [
    "df=pd.concat([X,Y], axis=1)"
   ]
  },
  {
   "cell_type": "code",
   "execution_count": 17,
   "metadata": {
    "executionInfo": {
     "elapsed": 3,
     "status": "ok",
     "timestamp": 1707457350359,
     "user": {
      "displayName": "Kulal sonali",
      "userId": "16929216952012382603"
     },
     "user_tz": -330
    },
    "id": "28utcWm5a2sU"
   },
   "outputs": [],
   "source": [
    "df['text']=df['Words'].astype(str)"
   ]
  },
  {
   "cell_type": "code",
   "execution_count": null,
   "metadata": {
    "id": "kfBq317sVjSb"
   },
   "outputs": [],
   "source": []
  },
  {
   "cell_type": "markdown",
   "metadata": {
    "id": "WIVnpbyfcYGU"
   },
   "source": []
  },
  {
   "cell_type": "code",
   "execution_count": 18,
   "metadata": {
    "executionInfo": {
     "elapsed": 527349,
     "status": "ok",
     "timestamp": 1707457881948,
     "user": {
      "displayName": "Kulal sonali",
      "userId": "16929216952012382603"
     },
     "user_tz": -330
    },
    "id": "BZ5sblIWVZTr"
   },
   "outputs": [],
   "source": [
    "df['vec'] = df['text'].apply(lambda x:get_vectors(x))#dont run this"
   ]
  },
  {
   "cell_type": "code",
   "execution_count": 20,
   "metadata": {
    "executionInfo": {
     "elapsed": 787,
     "status": "ok",
     "timestamp": 1707457945282,
     "user": {
      "displayName": "Kulal sonali",
      "userId": "16929216952012382603"
     },
     "user_tz": -330
    },
    "id": "gKAOK6SLqTMq"
   },
   "outputs": [],
   "source": [
    "import pickle #dont run this\n",
    "with open('vectrain_file1.pkl', 'wb') as f:  # open a text file\n",
    "    pickle.dump(df['vec'], f) # serialize the list"
   ]
  },
  {
   "cell_type": "code",
   "execution_count": 22,
   "metadata": {
    "executionInfo": {
     "elapsed": 401,
     "status": "ok",
     "timestamp": 1707457947362,
     "user": {
      "displayName": "Kulal sonali",
      "userId": "16929216952012382603"
     },
     "user_tz": -330
    },
    "id": "zzYnjcpAf8AR"
   },
   "outputs": [],
   "source": [
    "import pickle\n",
    "with open('vectrain_file1.pkl', 'rb') as f:\n",
    "\n",
    "    train_loaded = pickle.load(f) # deserialize using load()"
   ]
  },
  {
   "cell_type": "code",
   "execution_count": 23,
   "metadata": {
    "executionInfo": {
     "elapsed": 2,
     "status": "ok",
     "timestamp": 1707457948434,
     "user": {
      "displayName": "Kulal sonali",
      "userId": "16929216952012382603"
     },
     "user_tz": -330
    },
    "id": "O3EEj0YXVEr4"
   },
   "outputs": [],
   "source": [
    "df=df.rename(columns={'\\tNER_Tag': 'NER_Tag'})"
   ]
  },
  {
   "cell_type": "code",
   "execution_count": 24,
   "metadata": {
    "colab": {
     "base_uri": "https://localhost:8080/",
     "height": 424
    },
    "executionInfo": {
     "elapsed": 721,
     "status": "ok",
     "timestamp": 1707457951320,
     "user": {
      "displayName": "Kulal sonali",
      "userId": "16929216952012382603"
     },
     "user_tz": -330
    },
    "id": "8Pg3xBJTVl3h",
    "outputId": "b8b5c5d6-c9c9-44be-d245-405325d3660f"
   },
   "outputs": [
    {
     "data": {
      "text/html": [
       "<div>\n",
       "<style scoped>\n",
       "    .dataframe tbody tr th:only-of-type {\n",
       "        vertical-align: middle;\n",
       "    }\n",
       "\n",
       "    .dataframe tbody tr th {\n",
       "        vertical-align: top;\n",
       "    }\n",
       "\n",
       "    .dataframe thead th {\n",
       "        text-align: right;\n",
       "    }\n",
       "</style>\n",
       "<table border=\"1\" class=\"dataframe\">\n",
       "  <thead>\n",
       "    <tr style=\"text-align: right;\">\n",
       "      <th></th>\n",
       "      <th>Words</th>\n",
       "      <th>NER_Tag</th>\n",
       "      <th>text</th>\n",
       "      <th>vec</th>\n",
       "    </tr>\n",
       "  </thead>\n",
       "  <tbody>\n",
       "    <tr>\n",
       "      <th>0</th>\n",
       "      <td>ದಕ್ಷಿಣ</td>\n",
       "      <td>9</td>\n",
       "      <td>ದಕ್ಷಿಣ</td>\n",
       "      <td>[0.10593000054359436, -0.07414799928665161, -0...</td>\n",
       "    </tr>\n",
       "    <tr>\n",
       "      <th>1</th>\n",
       "      <td>ಕನ್ನಡ</td>\n",
       "      <td>27</td>\n",
       "      <td>ಕನ್ನಡ</td>\n",
       "      <td>[-0.1512800008058548, -0.008274099789559841, -...</td>\n",
       "    </tr>\n",
       "    <tr>\n",
       "      <th>2</th>\n",
       "      <td>ಜಿಲ್ಲೆಗ್</td>\n",
       "      <td>6</td>\n",
       "      <td>ಜಿಲ್ಲೆಗ್</td>\n",
       "      <td>[0.0, 0.0, 0.0, 0.0, 0.0, 0.0, 0.0, 0.0, 0.0, ...</td>\n",
       "    </tr>\n",
       "    <tr>\n",
       "      <th>3</th>\n",
       "      <td>ತುರ್ತು</td>\n",
       "      <td>10</td>\n",
       "      <td>ತುರ್ತು</td>\n",
       "      <td>[-0.008799999952316284, -0.052799999713897705,...</td>\n",
       "    </tr>\n",
       "    <tr>\n",
       "      <th>4</th>\n",
       "      <td>ಆಕ್ಸಿಜನ್</td>\n",
       "      <td>10</td>\n",
       "      <td>ಆಕ್ಸಿಜನ್</td>\n",
       "      <td>[0.003599999938160181, 0.011900000274181366, -...</td>\n",
       "    </tr>\n",
       "    <tr>\n",
       "      <th>...</th>\n",
       "      <td>...</td>\n",
       "      <td>...</td>\n",
       "      <td>...</td>\n",
       "      <td>...</td>\n",
       "    </tr>\n",
       "    <tr>\n",
       "      <th>20202</th>\n",
       "      <td>ದಕ್ಷಿಣ</td>\n",
       "      <td>9</td>\n",
       "      <td>ದಕ್ಷಿಣ</td>\n",
       "      <td>[0.10593000054359436, -0.07414799928665161, -0...</td>\n",
       "    </tr>\n",
       "    <tr>\n",
       "      <th>20203</th>\n",
       "      <td>ಕನ್ನಡ</td>\n",
       "      <td>27</td>\n",
       "      <td>ಕನ್ನಡ</td>\n",
       "      <td>[-0.1512800008058548, -0.008274099789559841, -...</td>\n",
       "    </tr>\n",
       "    <tr>\n",
       "      <th>20204</th>\n",
       "      <td>ಜಿಲ್ಲಾಡಳಿತಗ್</td>\n",
       "      <td>6</td>\n",
       "      <td>ಜಿಲ್ಲಾಡಳಿತಗ್</td>\n",
       "      <td>[0.0, 0.0, 0.0, 0.0, 0.0, 0.0, 0.0, 0.0, 0.0, ...</td>\n",
       "    </tr>\n",
       "    <tr>\n",
       "      <th>20205</th>\n",
       "      <td>ಕೊರ್ತೆರ್</td>\n",
       "      <td>36</td>\n",
       "      <td>ಕೊರ್ತೆರ್</td>\n",
       "      <td>[-0.2126999944448471, -0.44909000396728516, -0...</td>\n",
       "    </tr>\n",
       "    <tr>\n",
       "      <th>20206</th>\n",
       "      <td>.</td>\n",
       "      <td>36</td>\n",
       "      <td>.</td>\n",
       "      <td>[0.050710998475551605, 0.13324999809265137, 0....</td>\n",
       "    </tr>\n",
       "  </tbody>\n",
       "</table>\n",
       "<p>20207 rows × 4 columns</p>\n",
       "</div>"
      ],
      "text/plain": [
       "              Words  NER_Tag          text  \\\n",
       "0            ದಕ್ಷಿಣ        9        ದಕ್ಷಿಣ   \n",
       "1             ಕನ್ನಡ       27         ಕನ್ನಡ   \n",
       "2          ಜಿಲ್ಲೆಗ್        6      ಜಿಲ್ಲೆಗ್   \n",
       "3            ತುರ್ತು       10        ತುರ್ತು   \n",
       "4          ಆಕ್ಸಿಜನ್       10      ಆಕ್ಸಿಜನ್   \n",
       "...             ...      ...           ...   \n",
       "20202        ದಕ್ಷಿಣ        9        ದಕ್ಷಿಣ   \n",
       "20203         ಕನ್ನಡ       27         ಕನ್ನಡ   \n",
       "20204  ಜಿಲ್ಲಾಡಳಿತಗ್        6  ಜಿಲ್ಲಾಡಳಿತಗ್   \n",
       "20205      ಕೊರ್ತೆರ್       36      ಕೊರ್ತೆರ್   \n",
       "20206             .       36             .   \n",
       "\n",
       "                                                     vec  \n",
       "0      [0.10593000054359436, -0.07414799928665161, -0...  \n",
       "1      [-0.1512800008058548, -0.008274099789559841, -...  \n",
       "2      [0.0, 0.0, 0.0, 0.0, 0.0, 0.0, 0.0, 0.0, 0.0, ...  \n",
       "3      [-0.008799999952316284, -0.052799999713897705,...  \n",
       "4      [0.003599999938160181, 0.011900000274181366, -...  \n",
       "...                                                  ...  \n",
       "20202  [0.10593000054359436, -0.07414799928665161, -0...  \n",
       "20203  [-0.1512800008058548, -0.008274099789559841, -...  \n",
       "20204  [0.0, 0.0, 0.0, 0.0, 0.0, 0.0, 0.0, 0.0, 0.0, ...  \n",
       "20205  [-0.2126999944448471, -0.44909000396728516, -0...  \n",
       "20206  [0.050710998475551605, 0.13324999809265137, 0....  \n",
       "\n",
       "[20207 rows x 4 columns]"
      ]
     },
     "execution_count": 24,
     "metadata": {},
     "output_type": "execute_result"
    }
   ],
   "source": [
    "df"
   ]
  },
  {
   "cell_type": "code",
   "execution_count": 25,
   "metadata": {
    "executionInfo": {
     "elapsed": 1,
     "status": "ok",
     "timestamp": 1707457954329,
     "user": {
      "displayName": "Kulal sonali",
      "userId": "16929216952012382603"
     },
     "user_tz": -330
    },
    "id": "0x-9xTXOgGTy"
   },
   "outputs": [],
   "source": [
    "from sklearn.model_selection import train_test_split\n",
    "\n",
    "X_train,X_test,y_train,y_test = train_test_split(train_loaded, df.NER_Tag, test_size=0.3)"
   ]
  },
  {
   "cell_type": "code",
   "execution_count": 26,
   "metadata": {
    "executionInfo": {
     "elapsed": 1,
     "status": "ok",
     "timestamp": 1707457955818,
     "user": {
      "displayName": "Kulal sonali",
      "userId": "16929216952012382603"
     },
     "user_tz": -330
    },
    "id": "npXEUjCJUrky"
   },
   "outputs": [],
   "source": [
    "from sklearn.ensemble import RandomForestClassifier\n",
    "from sklearn import svm, tree\n",
    "from sklearn.naive_bayes import MultinomialNB,GaussianNB\n",
    "from sklearn.linear_model import LogisticRegression\n",
    "from sklearn.neural_network import MLPClassifier\n",
    "from sklearn.linear_model import Perceptron\n",
    "from sklearn.svm import SVC\n",
    "from sklearn.neighbors import KNeighborsClassifier\n",
    "from sklearn.ensemble import GradientBoostingClassifier\n",
    "from numpy import loadtxt\n",
    "from xgboost import XGBClassifier\n",
    "from sklearn.metrics import classification_report"
   ]
  },
  {
   "cell_type": "code",
   "execution_count": 27,
   "metadata": {
    "colab": {
     "base_uri": "https://localhost:8080/"
    },
    "executionInfo": {
     "elapsed": 418,
     "status": "ok",
     "timestamp": 1707457957876,
     "user": {
      "displayName": "Kulal sonali",
      "userId": "16929216952012382603"
     },
     "user_tz": -330
    },
    "id": "ZVSOIpfggYyD",
    "outputId": "4ce65235-eb20-4e95-e02d-483e58204659"
   },
   "outputs": [
    {
     "name": "stdout",
     "output_type": "stream",
     "text": [
      "              precision    recall  f1-score   support\n",
      "\n",
      "           0       0.26      0.21      0.24       233\n",
      "           1       0.85      0.45      0.59        38\n",
      "           2       0.39      0.46      0.42       208\n",
      "           3       0.00      0.00      0.00        23\n",
      "           4       0.20      0.27      0.23        95\n",
      "           5       0.21      0.10      0.14        69\n",
      "           6       0.28      0.42      0.33        77\n",
      "           7       0.00      0.00      0.00         9\n",
      "           8       0.03      0.01      0.02        77\n",
      "           9       0.75      0.14      0.23       243\n",
      "          10       0.18      0.26      0.22       183\n",
      "          11       0.77      0.54      0.63       164\n",
      "          12       0.12      0.17      0.14       210\n",
      "          13       0.40      0.11      0.17       188\n",
      "          14       0.67      0.05      0.09       170\n",
      "          15       0.00      0.00      0.00       213\n",
      "          16       0.10      0.50      0.17         2\n",
      "          17       0.00      0.00      0.00        24\n",
      "          18       0.21      0.08      0.11        76\n",
      "          19       0.00      0.00      0.00         3\n",
      "          20       0.41      0.26      0.32        27\n",
      "          21       0.00      0.00      0.00         8\n",
      "          22       0.00      0.00      0.00        10\n",
      "          23       0.00      0.00      0.00        27\n",
      "          24       0.00      0.00      0.00         2\n",
      "          25       0.00      0.00      0.00         2\n",
      "          26       0.00      0.00      0.00        21\n",
      "          27       0.75      0.16      0.26        57\n",
      "          28       0.08      0.04      0.05        93\n",
      "          29       0.00      0.00      0.00         1\n",
      "          30       0.26      0.04      0.07       239\n",
      "          31       0.52      0.07      0.12       199\n",
      "          32       0.07      0.02      0.03        47\n",
      "          33       0.10      0.33      0.15        76\n",
      "          34       0.00      0.00      0.00         2\n",
      "          35       0.02      0.40      0.04        10\n",
      "          36       0.89      0.41      0.56      2928\n",
      "          37       0.00      0.00      0.00         0\n",
      "          38       0.38      0.33      0.35         9\n",
      "\n",
      "    accuracy                           0.29      6063\n",
      "   macro avg       0.23      0.15      0.15      6063\n",
      "weighted avg       0.60      0.29      0.37      6063\n",
      "\n"
     ]
    },
    {
     "name": "stderr",
     "output_type": "stream",
     "text": [
      "C:\\Users\\CCL\\anaconda3\\lib\\site-packages\\sklearn\\metrics\\_classification.py:1318: UndefinedMetricWarning: Precision and F-score are ill-defined and being set to 0.0 in labels with no predicted samples. Use `zero_division` parameter to control this behavior.\n",
      "  _warn_prf(average, modifier, msg_start, len(result))\n",
      "C:\\Users\\CCL\\anaconda3\\lib\\site-packages\\sklearn\\metrics\\_classification.py:1318: UndefinedMetricWarning: Recall and F-score are ill-defined and being set to 0.0 in labels with no true samples. Use `zero_division` parameter to control this behavior.\n",
      "  _warn_prf(average, modifier, msg_start, len(result))\n",
      "C:\\Users\\CCL\\anaconda3\\lib\\site-packages\\sklearn\\metrics\\_classification.py:1318: UndefinedMetricWarning: Precision and F-score are ill-defined and being set to 0.0 in labels with no predicted samples. Use `zero_division` parameter to control this behavior.\n",
      "  _warn_prf(average, modifier, msg_start, len(result))\n",
      "C:\\Users\\CCL\\anaconda3\\lib\\site-packages\\sklearn\\metrics\\_classification.py:1318: UndefinedMetricWarning: Recall and F-score are ill-defined and being set to 0.0 in labels with no true samples. Use `zero_division` parameter to control this behavior.\n",
      "  _warn_prf(average, modifier, msg_start, len(result))\n",
      "C:\\Users\\CCL\\anaconda3\\lib\\site-packages\\sklearn\\metrics\\_classification.py:1318: UndefinedMetricWarning: Precision and F-score are ill-defined and being set to 0.0 in labels with no predicted samples. Use `zero_division` parameter to control this behavior.\n",
      "  _warn_prf(average, modifier, msg_start, len(result))\n",
      "C:\\Users\\CCL\\anaconda3\\lib\\site-packages\\sklearn\\metrics\\_classification.py:1318: UndefinedMetricWarning: Recall and F-score are ill-defined and being set to 0.0 in labels with no true samples. Use `zero_division` parameter to control this behavior.\n",
      "  _warn_prf(average, modifier, msg_start, len(result))\n"
     ]
    }
   ],
   "source": [
    "MNB = GaussianNB()\n",
    "MNB.fit(X_train.tolist(), y_train.tolist())\n",
    "y_pred_MNB= MNB.predict(X_test.tolist())\n",
    "print( classification_report(y_test, y_pred_MNB))"
   ]
  },
  {
   "cell_type": "code",
   "execution_count": 28,
   "metadata": {
    "colab": {
     "base_uri": "https://localhost:8080/"
    },
    "executionInfo": {
     "elapsed": 89218,
     "status": "ok",
     "timestamp": 1707458049777,
     "user": {
      "displayName": "Kulal sonali",
      "userId": "16929216952012382603"
     },
     "user_tz": -330
    },
    "id": "O0vgyUjzcTBH",
    "outputId": "8f31c13f-b8c1-43f6-aa86-05f69a440488"
   },
   "outputs": [
    {
     "name": "stdout",
     "output_type": "stream",
     "text": [
      "              precision    recall  f1-score   support\n",
      "\n",
      "           0       0.45      0.14      0.21       233\n",
      "           1       0.76      0.34      0.47        38\n",
      "           2       0.76      0.56      0.65       208\n",
      "           3       0.00      0.00      0.00        23\n",
      "           4       0.89      0.18      0.30        95\n",
      "           5       0.74      0.20      0.32        69\n",
      "           6       0.47      0.26      0.33        77\n",
      "           7       0.00      0.00      0.00         9\n",
      "           8       0.71      0.06      0.12        77\n",
      "           9       0.64      0.44      0.52       243\n",
      "          10       0.57      0.25      0.35       183\n",
      "          11       0.96      0.65      0.78       164\n",
      "          12       0.24      0.15      0.18       210\n",
      "          13       0.54      0.50      0.52       188\n",
      "          14       0.68      0.19      0.29       170\n",
      "          15       0.53      0.28      0.36       213\n",
      "          16       0.00      0.00      0.00         2\n",
      "          17       0.57      0.17      0.26        24\n",
      "          18       0.44      0.05      0.09        76\n",
      "          19       0.00      0.00      0.00         3\n",
      "          20       0.00      0.00      0.00        27\n",
      "          21       0.00      0.00      0.00         8\n",
      "          22       0.00      0.00      0.00        10\n",
      "          23       0.00      0.00      0.00        27\n",
      "          24       0.00      0.00      0.00         2\n",
      "          25       0.00      0.00      0.00         2\n",
      "          26       0.00      0.00      0.00        21\n",
      "          27       0.77      0.18      0.29        57\n",
      "          28       0.80      0.04      0.08        93\n",
      "          29       0.00      0.00      0.00         1\n",
      "          30       0.40      0.35      0.37       239\n",
      "          31       0.57      0.32      0.41       199\n",
      "          32       0.60      0.06      0.12        47\n",
      "          33       0.70      0.09      0.16        76\n",
      "          34       0.00      0.00      0.00         2\n",
      "          35       0.00      0.00      0.00        10\n",
      "          36       0.63      0.98      0.77      2928\n",
      "          38       0.00      0.00      0.00         9\n",
      "\n",
      "    accuracy                           0.62      6063\n",
      "   macro avg       0.38      0.17      0.21      6063\n",
      "weighted avg       0.60      0.62      0.55      6063\n",
      "\n"
     ]
    },
    {
     "name": "stderr",
     "output_type": "stream",
     "text": [
      "C:\\Users\\CCL\\anaconda3\\lib\\site-packages\\sklearn\\metrics\\_classification.py:1318: UndefinedMetricWarning: Precision and F-score are ill-defined and being set to 0.0 in labels with no predicted samples. Use `zero_division` parameter to control this behavior.\n",
      "  _warn_prf(average, modifier, msg_start, len(result))\n",
      "C:\\Users\\CCL\\anaconda3\\lib\\site-packages\\sklearn\\metrics\\_classification.py:1318: UndefinedMetricWarning: Precision and F-score are ill-defined and being set to 0.0 in labels with no predicted samples. Use `zero_division` parameter to control this behavior.\n",
      "  _warn_prf(average, modifier, msg_start, len(result))\n",
      "C:\\Users\\CCL\\anaconda3\\lib\\site-packages\\sklearn\\metrics\\_classification.py:1318: UndefinedMetricWarning: Precision and F-score are ill-defined and being set to 0.0 in labels with no predicted samples. Use `zero_division` parameter to control this behavior.\n",
      "  _warn_prf(average, modifier, msg_start, len(result))\n"
     ]
    }
   ],
   "source": [
    "svm_model = SVC(kernel='linear', C=1.0)\n",
    "svm_model.fit(X_train.tolist(), y_train.tolist())\n",
    "y_pred_svm = svm_model.predict(X_test.tolist())\n",
    "print( classification_report(y_test, y_pred_svm))"
   ]
  },
  {
   "cell_type": "code",
   "execution_count": 29,
   "metadata": {
    "colab": {
     "base_uri": "https://localhost:8080/"
    },
    "executionInfo": {
     "elapsed": 150291,
     "status": "ok",
     "timestamp": 1707458200067,
     "user": {
      "displayName": "Kulal sonali",
      "userId": "16929216952012382603"
     },
     "user_tz": -330
    },
    "id": "LIC5tWa-ckYp",
    "outputId": "7d30b7be-92b2-4f4e-8d09-cc8ac1805332"
   },
   "outputs": [
    {
     "name": "stdout",
     "output_type": "stream",
     "text": [
      "              precision    recall  f1-score   support\n",
      "\n",
      "           0       0.43      0.21      0.28       233\n",
      "           1       0.57      0.53      0.55        38\n",
      "           2       0.58      0.63      0.60       208\n",
      "           3       0.18      0.35      0.24        23\n",
      "           4       0.42      0.31      0.35        95\n",
      "           5       0.36      0.29      0.32        69\n",
      "           6       0.55      0.52      0.53        77\n",
      "           7       0.14      0.33      0.19         9\n",
      "           8       0.25      0.18      0.21        77\n",
      "           9       0.60      0.44      0.51       243\n",
      "          10       0.59      0.34      0.44       183\n",
      "          11       0.95      0.65      0.77       164\n",
      "          12       0.26      0.17      0.20       210\n",
      "          13       0.55      0.53      0.54       188\n",
      "          14       0.42      0.21      0.28       170\n",
      "          15       0.62      0.22      0.33       213\n",
      "          16       0.07      1.00      0.14         2\n",
      "          17       0.30      0.58      0.40        24\n",
      "          18       0.15      0.13      0.14        76\n",
      "          19       0.00      0.67      0.00         3\n",
      "          20       0.25      0.11      0.15        27\n",
      "          21       0.00      0.00      0.00         8\n",
      "          22       0.11      0.20      0.14        10\n",
      "          23       0.07      0.07      0.07        27\n",
      "          24       0.00      0.00      0.00         2\n",
      "          25       0.00      0.00      0.00         2\n",
      "          26       0.07      0.14      0.10        21\n",
      "          27       0.26      0.19      0.22        57\n",
      "          28       0.22      0.12      0.15        93\n",
      "          29       0.00      0.00      0.00         1\n",
      "          30       0.55      0.31      0.39       239\n",
      "          31       0.45      0.40      0.42       199\n",
      "          32       0.24      0.21      0.22        47\n",
      "          33       0.36      0.33      0.34        76\n",
      "          34       0.00      0.00      0.00         2\n",
      "          35       0.12      0.30      0.18        10\n",
      "          36       0.95      0.56      0.70      2928\n",
      "          37       0.00      0.00      0.00         0\n",
      "          38       0.35      0.67      0.46         9\n",
      "\n",
      "    accuracy                           0.45      6063\n",
      "   macro avg       0.31      0.31      0.27      6063\n",
      "weighted avg       0.70      0.45      0.54      6063\n",
      "\n"
     ]
    },
    {
     "name": "stderr",
     "output_type": "stream",
     "text": [
      "C:\\Users\\CCL\\anaconda3\\lib\\site-packages\\sklearn\\svm\\_base.py:1206: ConvergenceWarning: Liblinear failed to converge, increase the number of iterations.\n",
      "  warnings.warn(\n",
      "C:\\Users\\CCL\\anaconda3\\lib\\site-packages\\sklearn\\metrics\\_classification.py:1318: UndefinedMetricWarning: Precision and F-score are ill-defined and being set to 0.0 in labels with no predicted samples. Use `zero_division` parameter to control this behavior.\n",
      "  _warn_prf(average, modifier, msg_start, len(result))\n",
      "C:\\Users\\CCL\\anaconda3\\lib\\site-packages\\sklearn\\metrics\\_classification.py:1318: UndefinedMetricWarning: Recall and F-score are ill-defined and being set to 0.0 in labels with no true samples. Use `zero_division` parameter to control this behavior.\n",
      "  _warn_prf(average, modifier, msg_start, len(result))\n",
      "C:\\Users\\CCL\\anaconda3\\lib\\site-packages\\sklearn\\metrics\\_classification.py:1318: UndefinedMetricWarning: Precision and F-score are ill-defined and being set to 0.0 in labels with no predicted samples. Use `zero_division` parameter to control this behavior.\n",
      "  _warn_prf(average, modifier, msg_start, len(result))\n",
      "C:\\Users\\CCL\\anaconda3\\lib\\site-packages\\sklearn\\metrics\\_classification.py:1318: UndefinedMetricWarning: Recall and F-score are ill-defined and being set to 0.0 in labels with no true samples. Use `zero_division` parameter to control this behavior.\n",
      "  _warn_prf(average, modifier, msg_start, len(result))\n",
      "C:\\Users\\CCL\\anaconda3\\lib\\site-packages\\sklearn\\metrics\\_classification.py:1318: UndefinedMetricWarning: Precision and F-score are ill-defined and being set to 0.0 in labels with no predicted samples. Use `zero_division` parameter to control this behavior.\n",
      "  _warn_prf(average, modifier, msg_start, len(result))\n",
      "C:\\Users\\CCL\\anaconda3\\lib\\site-packages\\sklearn\\metrics\\_classification.py:1318: UndefinedMetricWarning: Recall and F-score are ill-defined and being set to 0.0 in labels with no true samples. Use `zero_division` parameter to control this behavior.\n",
      "  _warn_prf(average, modifier, msg_start, len(result))\n"
     ]
    }
   ],
   "source": [
    "from sklearn.svm import LinearSVC\n",
    "lsvc_model = LinearSVC(C=1.0, class_weight='balanced')\n",
    "lsvc_model.fit(X_train.tolist(), y_train.tolist())\n",
    "y_pred_lsvc = lsvc_model.predict(X_test.tolist())\n",
    "print( classification_report(y_test, y_pred_lsvc))"
   ]
  },
  {
   "cell_type": "code",
   "execution_count": 30,
   "metadata": {
    "colab": {
     "base_uri": "https://localhost:8080/"
    },
    "executionInfo": {
     "elapsed": 12351,
     "status": "ok",
     "timestamp": 1707458212415,
     "user": {
      "displayName": "Kulal sonali",
      "userId": "16929216952012382603"
     },
     "user_tz": -330
    },
    "id": "RuXwqKricpQX",
    "outputId": "d1642af4-130e-47d4-8400-2d0d80faddac"
   },
   "outputs": [
    {
     "name": "stdout",
     "output_type": "stream",
     "text": [
      "              precision    recall  f1-score   support\n",
      "\n",
      "           0       0.46      0.18      0.25       233\n",
      "           1       0.73      0.29      0.42        38\n",
      "           2       0.79      0.53      0.63       208\n",
      "           3       0.00      0.00      0.00        23\n",
      "           4       0.82      0.19      0.31        95\n",
      "           5       0.67      0.14      0.24        69\n",
      "           6       0.50      0.34      0.40        77\n",
      "           7       0.00      0.00      0.00         9\n",
      "           8       0.38      0.04      0.07        77\n",
      "           9       0.68      0.39      0.49       243\n",
      "          10       0.51      0.22      0.31       183\n",
      "          11       0.95      0.65      0.77       164\n",
      "          12       0.24      0.12      0.16       210\n",
      "          13       0.55      0.50      0.53       188\n",
      "          14       0.60      0.18      0.27       170\n",
      "          15       0.64      0.24      0.35       213\n",
      "          16       0.00      0.00      0.00         2\n",
      "          17       0.50      0.04      0.08        24\n",
      "          18       0.50      0.08      0.14        76\n",
      "          19       0.00      0.00      0.00         3\n",
      "          20       0.50      0.07      0.13        27\n",
      "          21       0.00      0.00      0.00         8\n",
      "          22       0.00      0.00      0.00        10\n",
      "          23       0.00      0.00      0.00        27\n",
      "          24       0.00      0.00      0.00         2\n",
      "          25       0.00      0.00      0.00         2\n",
      "          26       0.50      0.05      0.09        21\n",
      "          27       0.77      0.18      0.29        57\n",
      "          28       0.80      0.04      0.08        93\n",
      "          29       0.00      0.00      0.00         1\n",
      "          30       0.45      0.35      0.39       239\n",
      "          31       0.54      0.38      0.44       199\n",
      "          32       0.00      0.00      0.00        47\n",
      "          33       0.70      0.09      0.16        76\n",
      "          34       0.00      0.00      0.00         2\n",
      "          35       0.00      0.00      0.00        10\n",
      "          36       0.62      0.98      0.76      2928\n",
      "          38       0.00      0.00      0.00         9\n",
      "\n",
      "    accuracy                           0.61      6063\n",
      "   macro avg       0.38      0.16      0.20      6063\n",
      "weighted avg       0.59      0.61      0.54      6063\n",
      "\n"
     ]
    },
    {
     "name": "stderr",
     "output_type": "stream",
     "text": [
      "C:\\Users\\CCL\\anaconda3\\lib\\site-packages\\sklearn\\linear_model\\_logistic.py:814: ConvergenceWarning: lbfgs failed to converge (status=1):\n",
      "STOP: TOTAL NO. of ITERATIONS REACHED LIMIT.\n",
      "\n",
      "Increase the number of iterations (max_iter) or scale the data as shown in:\n",
      "    https://scikit-learn.org/stable/modules/preprocessing.html\n",
      "Please also refer to the documentation for alternative solver options:\n",
      "    https://scikit-learn.org/stable/modules/linear_model.html#logistic-regression\n",
      "  n_iter_i = _check_optimize_result(\n",
      "C:\\Users\\CCL\\anaconda3\\lib\\site-packages\\sklearn\\metrics\\_classification.py:1318: UndefinedMetricWarning: Precision and F-score are ill-defined and being set to 0.0 in labels with no predicted samples. Use `zero_division` parameter to control this behavior.\n",
      "  _warn_prf(average, modifier, msg_start, len(result))\n",
      "C:\\Users\\CCL\\anaconda3\\lib\\site-packages\\sklearn\\metrics\\_classification.py:1318: UndefinedMetricWarning: Precision and F-score are ill-defined and being set to 0.0 in labels with no predicted samples. Use `zero_division` parameter to control this behavior.\n",
      "  _warn_prf(average, modifier, msg_start, len(result))\n",
      "C:\\Users\\CCL\\anaconda3\\lib\\site-packages\\sklearn\\metrics\\_classification.py:1318: UndefinedMetricWarning: Precision and F-score are ill-defined and being set to 0.0 in labels with no predicted samples. Use `zero_division` parameter to control this behavior.\n",
      "  _warn_prf(average, modifier, msg_start, len(result))\n"
     ]
    }
   ],
   "source": [
    "lr_model = LogisticRegression(random_state=42)\n",
    "lr_model.fit(X_train.tolist(), y_train.tolist())\n",
    "y_pred_lr = lr_model.predict(X_test.tolist())\n",
    "print( classification_report(y_test, y_pred_lr))"
   ]
  },
  {
   "cell_type": "code",
   "execution_count": 31,
   "metadata": {
    "colab": {
     "base_uri": "https://localhost:8080/"
    },
    "executionInfo": {
     "elapsed": 19861,
     "status": "ok",
     "timestamp": 1707458232274,
     "user": {
      "displayName": "Kulal sonali",
      "userId": "16929216952012382603"
     },
     "user_tz": -330
    },
    "id": "8Ap36-Kkdhn3",
    "outputId": "9a6dfb63-0641-486d-f620-13e170c00e58"
   },
   "outputs": [
    {
     "name": "stdout",
     "output_type": "stream",
     "text": [
      "              precision    recall  f1-score   support\n",
      "\n",
      "           0       0.59      0.30      0.40       233\n",
      "           1       0.81      0.55      0.66        38\n",
      "           2       0.87      0.69      0.77       208\n",
      "           3       0.62      0.43      0.51        23\n",
      "           4       0.84      0.38      0.52        95\n",
      "           5       0.77      0.33      0.46        69\n",
      "           6       0.73      0.47      0.57        77\n",
      "           7       0.75      0.33      0.46         9\n",
      "           8       0.66      0.25      0.36        77\n",
      "           9       0.77      0.43      0.55       243\n",
      "          10       0.71      0.38      0.50       183\n",
      "          11       0.95      0.63      0.76       164\n",
      "          12       0.46      0.33      0.38       210\n",
      "          13       0.54      0.59      0.56       188\n",
      "          14       0.71      0.41      0.52       170\n",
      "          15       0.71      0.31      0.43       213\n",
      "          16       1.00      1.00      1.00         2\n",
      "          17       0.75      0.50      0.60        24\n",
      "          18       0.31      0.13      0.19        76\n",
      "          19       0.00      0.00      0.00         3\n",
      "          20       0.40      0.07      0.12        27\n",
      "          21       0.00      0.00      0.00         8\n",
      "          22       0.33      0.10      0.15        10\n",
      "          23       0.40      0.07      0.12        27\n",
      "          24       0.00      0.00      0.00         2\n",
      "          25       0.00      0.00      0.00         2\n",
      "          26       0.38      0.14      0.21        21\n",
      "          27       0.62      0.26      0.37        57\n",
      "          28       0.63      0.28      0.39        93\n",
      "          29       0.00      0.00      0.00         1\n",
      "          30       0.58      0.42      0.49       239\n",
      "          31       0.65      0.39      0.49       199\n",
      "          32       0.44      0.09      0.14        47\n",
      "          33       0.58      0.25      0.35        76\n",
      "          34       0.00      0.00      0.00         2\n",
      "          35       0.50      0.30      0.37        10\n",
      "          36       0.68      0.98      0.81      2928\n",
      "          38       0.80      0.44      0.57         9\n",
      "\n",
      "    accuracy                           0.68      6063\n",
      "   macro avg       0.54      0.32      0.39      6063\n",
      "weighted avg       0.67      0.68      0.64      6063\n",
      "\n"
     ]
    },
    {
     "name": "stderr",
     "output_type": "stream",
     "text": [
      "C:\\Users\\CCL\\anaconda3\\lib\\site-packages\\sklearn\\metrics\\_classification.py:1318: UndefinedMetricWarning: Precision and F-score are ill-defined and being set to 0.0 in labels with no predicted samples. Use `zero_division` parameter to control this behavior.\n",
      "  _warn_prf(average, modifier, msg_start, len(result))\n",
      "C:\\Users\\CCL\\anaconda3\\lib\\site-packages\\sklearn\\metrics\\_classification.py:1318: UndefinedMetricWarning: Precision and F-score are ill-defined and being set to 0.0 in labels with no predicted samples. Use `zero_division` parameter to control this behavior.\n",
      "  _warn_prf(average, modifier, msg_start, len(result))\n",
      "C:\\Users\\CCL\\anaconda3\\lib\\site-packages\\sklearn\\metrics\\_classification.py:1318: UndefinedMetricWarning: Precision and F-score are ill-defined and being set to 0.0 in labels with no predicted samples. Use `zero_division` parameter to control this behavior.\n",
      "  _warn_prf(average, modifier, msg_start, len(result))\n"
     ]
    }
   ],
   "source": [
    "RF_model = RandomForestClassifier()\n",
    "RF_model.fit(X_train.tolist(), y_train.tolist())\n",
    "y_pred_rf = RF_model.predict(X_test.tolist())\n",
    "print( classification_report(y_test, y_pred_rf))"
   ]
  },
  {
   "cell_type": "code",
   "execution_count": 32,
   "metadata": {
    "colab": {
     "base_uri": "https://localhost:8080/"
    },
    "executionInfo": {
     "elapsed": 133062,
     "status": "ok",
     "timestamp": 1707458365334,
     "user": {
      "displayName": "Kulal sonali",
      "userId": "16929216952012382603"
     },
     "user_tz": -330
    },
    "id": "4EyyW3Ord8pY",
    "outputId": "1e4bed3a-8112-4d3d-852e-0df745146831"
   },
   "outputs": [
    {
     "name": "stdout",
     "output_type": "stream",
     "text": [
      "              precision    recall  f1-score   support\n",
      "\n",
      "           0       0.53      0.30      0.39       233\n",
      "           1       0.79      0.50      0.61        38\n",
      "           2       0.87      0.68      0.76       208\n",
      "           3       0.59      0.43      0.50        23\n",
      "           4       0.76      0.37      0.50        95\n",
      "           5       0.69      0.35      0.46        69\n",
      "           6       0.71      0.47      0.56        77\n",
      "           7       0.67      0.22      0.33         9\n",
      "           8       0.54      0.25      0.34        77\n",
      "           9       0.72      0.42      0.53       243\n",
      "          10       0.67      0.38      0.48       183\n",
      "          11       0.94      0.65      0.77       164\n",
      "          12       0.45      0.34      0.39       210\n",
      "          13       0.59      0.52      0.55       188\n",
      "          14       0.62      0.41      0.49       170\n",
      "          15       0.66      0.31      0.42       213\n",
      "          16       1.00      1.00      1.00         2\n",
      "          17       0.75      0.50      0.60        24\n",
      "          18       0.29      0.13      0.18        76\n",
      "          19       0.00      0.00      0.00         3\n",
      "          20       0.40      0.07      0.12        27\n",
      "          21       0.00      0.00      0.00         8\n",
      "          22       0.33      0.10      0.15        10\n",
      "          23       0.33      0.04      0.07        27\n",
      "          24       0.00      0.00      0.00         2\n",
      "          25       0.00      0.00      0.00         2\n",
      "          26       0.29      0.10      0.14        21\n",
      "          27       0.56      0.26      0.36        57\n",
      "          28       0.56      0.27      0.36        93\n",
      "          29       0.00      0.00      0.00         1\n",
      "          30       0.55      0.41      0.47       239\n",
      "          31       0.59      0.47      0.53       199\n",
      "          32       0.50      0.09      0.15        47\n",
      "          33       0.56      0.25      0.35        76\n",
      "          34       0.00      0.00      0.00         2\n",
      "          35       0.50      0.30      0.37        10\n",
      "          36       0.69      0.97      0.81      2928\n",
      "          38       0.80      0.44      0.57         9\n",
      "\n",
      "    accuracy                           0.67      6063\n",
      "   macro avg       0.51      0.32      0.38      6063\n",
      "weighted avg       0.66      0.67      0.64      6063\n",
      "\n"
     ]
    },
    {
     "name": "stderr",
     "output_type": "stream",
     "text": [
      "C:\\Users\\CCL\\anaconda3\\lib\\site-packages\\sklearn\\metrics\\_classification.py:1318: UndefinedMetricWarning: Precision and F-score are ill-defined and being set to 0.0 in labels with no predicted samples. Use `zero_division` parameter to control this behavior.\n",
      "  _warn_prf(average, modifier, msg_start, len(result))\n",
      "C:\\Users\\CCL\\anaconda3\\lib\\site-packages\\sklearn\\metrics\\_classification.py:1318: UndefinedMetricWarning: Precision and F-score are ill-defined and being set to 0.0 in labels with no predicted samples. Use `zero_division` parameter to control this behavior.\n",
      "  _warn_prf(average, modifier, msg_start, len(result))\n",
      "C:\\Users\\CCL\\anaconda3\\lib\\site-packages\\sklearn\\metrics\\_classification.py:1318: UndefinedMetricWarning: Precision and F-score are ill-defined and being set to 0.0 in labels with no predicted samples. Use `zero_division` parameter to control this behavior.\n",
      "  _warn_prf(average, modifier, msg_start, len(result))\n"
     ]
    }
   ],
   "source": [
    "xgb_model = XGBClassifier(random_state=42)\n",
    "xgb_model.fit(X_train.tolist(), y_train.tolist())\n",
    "y_pred_xgb = xgb_model.predict(X_test.tolist())\n",
    "print( classification_report(y_test, y_pred_xgb))"
   ]
  },
  {
   "cell_type": "code",
   "execution_count": null,
   "metadata": {
    "id": "OMQ_LwQ6ecY3"
   },
   "outputs": [],
   "source": []
  }
 ],
 "metadata": {
  "colab": {
   "provenance": []
  },
  "kernelspec": {
   "display_name": "Python 3 (ipykernel)",
   "language": "python",
   "name": "python3"
  },
  "language_info": {
   "codemirror_mode": {
    "name": "ipython",
    "version": 3
   },
   "file_extension": ".py",
   "mimetype": "text/x-python",
   "name": "python",
   "nbconvert_exporter": "python",
   "pygments_lexer": "ipython3",
   "version": "3.9.13"
  }
 },
 "nbformat": 4,
 "nbformat_minor": 1
}
