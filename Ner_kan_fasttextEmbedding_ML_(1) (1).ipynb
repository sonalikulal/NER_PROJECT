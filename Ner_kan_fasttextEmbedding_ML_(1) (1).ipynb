{
 "cells": [
  {
   "cell_type": "code",
   "execution_count": 1,
   "metadata": {
    "id": "8uN1414xTUPx"
   },
   "outputs": [],
   "source": [
    "import pandas as pd"
   ]
  },
  {
   "cell_type": "code",
   "execution_count": 2,
   "metadata": {
    "id": "xN6ke-t4YX5x"
   },
   "outputs": [],
   "source": [
    "data=pd.read_csv('Tulu_NER - Tulu_NER.csv')"
   ]
  },
  {
   "cell_type": "code",
   "execution_count": 3,
   "metadata": {
    "colab": {
     "base_uri": "https://localhost:8080/",
     "height": 424
    },
    "id": "0pv0JmJ-0qV7",
    "outputId": "8402c5b6-d382-4e98-eb8e-9ad53795d753"
   },
   "outputs": [
    {
     "data": {
      "text/html": [
       "<div>\n",
       "<style scoped>\n",
       "    .dataframe tbody tr th:only-of-type {\n",
       "        vertical-align: middle;\n",
       "    }\n",
       "\n",
       "    .dataframe tbody tr th {\n",
       "        vertical-align: top;\n",
       "    }\n",
       "\n",
       "    .dataframe thead th {\n",
       "        text-align: right;\n",
       "    }\n",
       "</style>\n",
       "<table border=\"1\" class=\"dataframe\">\n",
       "  <thead>\n",
       "    <tr style=\"text-align: right;\">\n",
       "      <th></th>\n",
       "      <th>Words</th>\n",
       "      <th>NER_Tag</th>\n",
       "    </tr>\n",
       "  </thead>\n",
       "  <tbody>\n",
       "    <tr>\n",
       "      <th>0</th>\n",
       "      <td>ದಕ್ಷಿಣ</td>\n",
       "      <td>B-LOC</td>\n",
       "    </tr>\n",
       "    <tr>\n",
       "      <th>1</th>\n",
       "      <td>ಕನ್ನಡ</td>\n",
       "      <td>I-LOC</td>\n",
       "    </tr>\n",
       "    <tr>\n",
       "      <th>2</th>\n",
       "      <td>ಜಿಲ್ಲೆಗ್</td>\n",
       "      <td>B-GPE</td>\n",
       "    </tr>\n",
       "    <tr>\n",
       "      <th>3</th>\n",
       "      <td>ತುರ್ತು</td>\n",
       "      <td>B-MED</td>\n",
       "    </tr>\n",
       "    <tr>\n",
       "      <th>4</th>\n",
       "      <td>ಆಕ್ಸಿಜನ್</td>\n",
       "      <td>B-MED</td>\n",
       "    </tr>\n",
       "    <tr>\n",
       "      <th>...</th>\n",
       "      <td>...</td>\n",
       "      <td>...</td>\n",
       "    </tr>\n",
       "    <tr>\n",
       "      <th>95</th>\n",
       "      <td>ರಾಜ್ಯಾದ್ಯಂತ</td>\n",
       "      <td>B-GPE</td>\n",
       "    </tr>\n",
       "    <tr>\n",
       "      <th>96</th>\n",
       "      <td>ಖಾಸಗಿ</td>\n",
       "      <td>B-ACD</td>\n",
       "    </tr>\n",
       "    <tr>\n",
       "      <th>97</th>\n",
       "      <td>ಅನುದಾನ</td>\n",
       "      <td>O</td>\n",
       "    </tr>\n",
       "    <tr>\n",
       "      <th>98</th>\n",
       "      <td>ರಹಿತ</td>\n",
       "      <td>O</td>\n",
       "    </tr>\n",
       "    <tr>\n",
       "      <th>99</th>\n",
       "      <td>ಶಾಲೆಡ್</td>\n",
       "      <td>B-ACD</td>\n",
       "    </tr>\n",
       "  </tbody>\n",
       "</table>\n",
       "<p>100 rows × 2 columns</p>\n",
       "</div>"
      ],
      "text/plain": [
       "          Words NER_Tag\n",
       "0        ದಕ್ಷಿಣ   B-LOC\n",
       "1         ಕನ್ನಡ   I-LOC\n",
       "2      ಜಿಲ್ಲೆಗ್   B-GPE\n",
       "3        ತುರ್ತು   B-MED\n",
       "4      ಆಕ್ಸಿಜನ್   B-MED\n",
       "..          ...     ...\n",
       "95  ರಾಜ್ಯಾದ್ಯಂತ   B-GPE\n",
       "96        ಖಾಸಗಿ   B-ACD\n",
       "97       ಅನುದಾನ       O\n",
       "98         ರಹಿತ       O\n",
       "99       ಶಾಲೆಡ್   B-ACD\n",
       "\n",
       "[100 rows x 2 columns]"
      ]
     },
     "execution_count": 3,
     "metadata": {},
     "output_type": "execute_result"
    }
   ],
   "source": [
    "data.head(100)"
   ]
  },
  {
   "cell_type": "code",
   "execution_count": 4,
   "metadata": {
    "id": "31Dkmq5zTzUB"
   },
   "outputs": [],
   "source": [
    "from textblob import TextBlob\n",
    "#import emot\n",
    "import nltk.data\n",
    "import numpy as np\n",
    "import re\n",
    "import time\n",
    "import string\n",
    "#import emoji\n",
    "#import demoji\n",
    "#import contractions\n",
    "import nltk\n",
    "from nltk.corpus import stopwords"
   ]
  },
  {
   "cell_type": "code",
   "execution_count": 5,
   "metadata": {
    "id": "tWIk9ueuUCRa"
   },
   "outputs": [],
   "source": [
    "from sklearn.preprocessing import LabelEncoder\n",
    "label_encoder = LabelEncoder()\n",
    "y = label_encoder.fit_transform(data['NER_Tag'])\n",
    "#y_test =label_encoder.transform(y_test)"
   ]
  },
  {
   "cell_type": "code",
   "execution_count": 6,
   "metadata": {
    "id": "gBrFY5OFa920"
   },
   "outputs": [],
   "source": [
    "# y_test"
   ]
  },
  {
   "cell_type": "code",
   "execution_count": 7,
   "metadata": {
    "id": "kuBHztWDUGWB"
   },
   "outputs": [],
   "source": [
    "from tqdm import tqdm #dont run this\n",
    "benvocab = []\n",
    "embedding_index_tul = {}\n",
    "f = open('C:/Users/CCL/Downloads/cc.kn.300 (1).vec/cc.kn.300.vec',encoding='utf-8')\n",
    "for line in f:\n",
    "        values = line.rstrip().split(' ')\n",
    "        word = values[0]\n",
    "        benvocab.append(word)\n",
    "        coefs = np.asarray(values[1:], dtype='float32')\n",
    "        embedding_index_tul[word] = coefs"
   ]
  },
  {
   "cell_type": "code",
   "execution_count": 8,
   "metadata": {
    "id": "82rcYs_jUKty"
   },
   "outputs": [],
   "source": [
    "def get_vectors(sentence):# dont run\n",
    "    sentvec = np.zeros(300)\n",
    "    zeros = np.zeros(300)\n",
    "\n",
    "    for word in sentence.split():\n",
    "        if word in benvocab:\n",
    "             temp = embedding_index_tul[word]\n",
    "        else: temp = zeros\n",
    "        # print('word : ', word, ' ttt : ', temp)\n",
    "        sentvec += temp\n",
    "\n",
    "    sentvec = sentvec / len(sentence.split())\n",
    "    return sentvec"
   ]
  },
  {
   "cell_type": "code",
   "execution_count": 9,
   "metadata": {
    "id": "AW1xBYapZOAZ"
   },
   "outputs": [],
   "source": [
    "x=data['Words'].tolist()"
   ]
  },
  {
   "cell_type": "code",
   "execution_count": 10,
   "metadata": {
    "id": "NDqj9e-UamGU"
   },
   "outputs": [],
   "source": [
    "X=pd.DataFrame(x)\n",
    "Y=pd.DataFrame(y)\n",
    "\n",
    "# X_test11=pd.DataFrame(x_test)\n",
    "# y_test11=pd.DataFrame(y_test)"
   ]
  },
  {
   "cell_type": "code",
   "execution_count": 11,
   "metadata": {
    "id": "SMpJA0rJRy4x"
   },
   "outputs": [],
   "source": [
    "X=X.rename(columns={0:'Words'})"
   ]
  },
  {
   "cell_type": "code",
   "execution_count": 12,
   "metadata": {
    "id": "4gaD4x9dSJ0B"
   },
   "outputs": [],
   "source": [
    "Y=Y.rename(columns={0:'NER_Tag'})\n",
    "# X_test11=X_test11.rename(columns={0:'text'})\n",
    "# y_test11=y_test11.rename(columns={0:'label'})"
   ]
  },
  {
   "cell_type": "code",
   "execution_count": 13,
   "metadata": {
    "id": "4T3ozd8zavJF"
   },
   "outputs": [],
   "source": [
    "df=pd.concat([X,Y], axis=1)"
   ]
  },
  {
   "cell_type": "code",
   "execution_count": 14,
   "metadata": {
    "id": "J9HvB9Qtbk_L"
   },
   "outputs": [],
   "source": [
    "#df_train=pd.concat([X_train11,y_train11], axis=1)"
   ]
  },
  {
   "cell_type": "code",
   "execution_count": 15,
   "metadata": {
    "id": "28utcWm5a2sU"
   },
   "outputs": [],
   "source": [
    "df['text']=df['Words'].astype(str)"
   ]
  },
  {
   "cell_type": "code",
   "execution_count": 16,
   "metadata": {
    "colab": {
     "base_uri": "https://localhost:8080/",
     "height": 424
    },
    "id": "r7SA-Udu6Ur2",
    "outputId": "6bd64496-7c76-495f-ff04-5196a060545b"
   },
   "outputs": [
    {
     "data": {
      "text/html": [
       "<div>\n",
       "<style scoped>\n",
       "    .dataframe tbody tr th:only-of-type {\n",
       "        vertical-align: middle;\n",
       "    }\n",
       "\n",
       "    .dataframe tbody tr th {\n",
       "        vertical-align: top;\n",
       "    }\n",
       "\n",
       "    .dataframe thead th {\n",
       "        text-align: right;\n",
       "    }\n",
       "</style>\n",
       "<table border=\"1\" class=\"dataframe\">\n",
       "  <thead>\n",
       "    <tr style=\"text-align: right;\">\n",
       "      <th></th>\n",
       "      <th>Words</th>\n",
       "      <th>NER_Tag</th>\n",
       "      <th>text</th>\n",
       "    </tr>\n",
       "  </thead>\n",
       "  <tbody>\n",
       "    <tr>\n",
       "      <th>0</th>\n",
       "      <td>ದಕ್ಷಿಣ</td>\n",
       "      <td>9</td>\n",
       "      <td>ದಕ್ಷಿಣ</td>\n",
       "    </tr>\n",
       "    <tr>\n",
       "      <th>1</th>\n",
       "      <td>ಕನ್ನಡ</td>\n",
       "      <td>27</td>\n",
       "      <td>ಕನ್ನಡ</td>\n",
       "    </tr>\n",
       "    <tr>\n",
       "      <th>2</th>\n",
       "      <td>ಜಿಲ್ಲೆಗ್</td>\n",
       "      <td>6</td>\n",
       "      <td>ಜಿಲ್ಲೆಗ್</td>\n",
       "    </tr>\n",
       "    <tr>\n",
       "      <th>3</th>\n",
       "      <td>ತುರ್ತು</td>\n",
       "      <td>10</td>\n",
       "      <td>ತುರ್ತು</td>\n",
       "    </tr>\n",
       "    <tr>\n",
       "      <th>4</th>\n",
       "      <td>ಆಕ್ಸಿಜನ್</td>\n",
       "      <td>10</td>\n",
       "      <td>ಆಕ್ಸಿಜನ್</td>\n",
       "    </tr>\n",
       "    <tr>\n",
       "      <th>...</th>\n",
       "      <td>...</td>\n",
       "      <td>...</td>\n",
       "      <td>...</td>\n",
       "    </tr>\n",
       "    <tr>\n",
       "      <th>20202</th>\n",
       "      <td>ದಕ್ಷಿಣ</td>\n",
       "      <td>9</td>\n",
       "      <td>ದಕ್ಷಿಣ</td>\n",
       "    </tr>\n",
       "    <tr>\n",
       "      <th>20203</th>\n",
       "      <td>ಕನ್ನಡ</td>\n",
       "      <td>27</td>\n",
       "      <td>ಕನ್ನಡ</td>\n",
       "    </tr>\n",
       "    <tr>\n",
       "      <th>20204</th>\n",
       "      <td>ಜಿಲ್ಲಾಡಳಿತಗ್</td>\n",
       "      <td>6</td>\n",
       "      <td>ಜಿಲ್ಲಾಡಳಿತಗ್</td>\n",
       "    </tr>\n",
       "    <tr>\n",
       "      <th>20205</th>\n",
       "      <td>ಕೊರ್ತೆರ್</td>\n",
       "      <td>36</td>\n",
       "      <td>ಕೊರ್ತೆರ್</td>\n",
       "    </tr>\n",
       "    <tr>\n",
       "      <th>20206</th>\n",
       "      <td>.</td>\n",
       "      <td>36</td>\n",
       "      <td>.</td>\n",
       "    </tr>\n",
       "  </tbody>\n",
       "</table>\n",
       "<p>20207 rows × 3 columns</p>\n",
       "</div>"
      ],
      "text/plain": [
       "              Words  NER_Tag          text\n",
       "0            ದಕ್ಷಿಣ        9        ದಕ್ಷಿಣ\n",
       "1             ಕನ್ನಡ       27         ಕನ್ನಡ\n",
       "2          ಜಿಲ್ಲೆಗ್        6      ಜಿಲ್ಲೆಗ್\n",
       "3            ತುರ್ತು       10        ತುರ್ತು\n",
       "4          ಆಕ್ಸಿಜನ್       10      ಆಕ್ಸಿಜನ್\n",
       "...             ...      ...           ...\n",
       "20202        ದಕ್ಷಿಣ        9        ದಕ್ಷಿಣ\n",
       "20203         ಕನ್ನಡ       27         ಕನ್ನಡ\n",
       "20204  ಜಿಲ್ಲಾಡಳಿತಗ್        6  ಜಿಲ್ಲಾಡಳಿತಗ್\n",
       "20205      ಕೊರ್ತೆರ್       36      ಕೊರ್ತೆರ್\n",
       "20206             .       36             .\n",
       "\n",
       "[20207 rows x 3 columns]"
      ]
     },
     "execution_count": 16,
     "metadata": {},
     "output_type": "execute_result"
    }
   ],
   "source": [
    "df"
   ]
  },
  {
   "cell_type": "markdown",
   "metadata": {
    "id": "WIVnpbyfcYGU"
   },
   "source": []
  },
  {
   "cell_type": "code",
   "execution_count": 17,
   "metadata": {
    "id": "BZ5sblIWVZTr"
   },
   "outputs": [],
   "source": [
    "df['vec'] = df['text'].apply(lambda x:get_vectors(x))#dont run this"
   ]
  },
  {
   "cell_type": "code",
   "execution_count": 18,
   "metadata": {
    "id": "gKAOK6SLqTMq"
   },
   "outputs": [],
   "source": [
    "import pickle #dont run this\n",
    "with open('vectrain_file.pkl', 'wb') as f:  # open a text file\n",
    "    pickle.dump(df['vec'], f) # serialize the list"
   ]
  },
  {
   "cell_type": "code",
   "execution_count": 19,
   "metadata": {
    "id": "ZlrL39jASdwX"
   },
   "outputs": [],
   "source": [
    "#xtest = df_test['text'].apply(lambda x:get_vectors(x))"
   ]
  },
  {
   "cell_type": "code",
   "execution_count": 20,
   "metadata": {
    "id": "zzYnjcpAf8AR"
   },
   "outputs": [],
   "source": [
    "import pickle\n",
    "with open('vectrain_file.pkl', 'rb') as f:\n",
    "\n",
    "    train_loaded = pickle.load(f) # deserialize using load()"
   ]
  },
  {
   "cell_type": "code",
   "execution_count": 21,
   "metadata": {
    "colab": {
     "base_uri": "https://localhost:8080/",
     "height": 424
    },
    "id": "yI7ORPYS63Jx",
    "outputId": "87e63992-2a90-4b34-b3ac-65c3d6d42e93"
   },
   "outputs": [
    {
     "data": {
      "text/html": [
       "<div>\n",
       "<style scoped>\n",
       "    .dataframe tbody tr th:only-of-type {\n",
       "        vertical-align: middle;\n",
       "    }\n",
       "\n",
       "    .dataframe tbody tr th {\n",
       "        vertical-align: top;\n",
       "    }\n",
       "\n",
       "    .dataframe thead th {\n",
       "        text-align: right;\n",
       "    }\n",
       "</style>\n",
       "<table border=\"1\" class=\"dataframe\">\n",
       "  <thead>\n",
       "    <tr style=\"text-align: right;\">\n",
       "      <th></th>\n",
       "      <th>Words</th>\n",
       "      <th>NER_Tag</th>\n",
       "      <th>text</th>\n",
       "      <th>vec</th>\n",
       "    </tr>\n",
       "  </thead>\n",
       "  <tbody>\n",
       "    <tr>\n",
       "      <th>0</th>\n",
       "      <td>ದಕ್ಷಿಣ</td>\n",
       "      <td>9</td>\n",
       "      <td>ದಕ್ಷಿಣ</td>\n",
       "      <td>[0.04089999943971634, -0.0957999974489212, -0....</td>\n",
       "    </tr>\n",
       "    <tr>\n",
       "      <th>1</th>\n",
       "      <td>ಕನ್ನಡ</td>\n",
       "      <td>27</td>\n",
       "      <td>ಕನ್ನಡ</td>\n",
       "      <td>[0.019600000232458115, -0.18199999630451202, 0...</td>\n",
       "    </tr>\n",
       "    <tr>\n",
       "      <th>2</th>\n",
       "      <td>ಜಿಲ್ಲೆಗ್</td>\n",
       "      <td>6</td>\n",
       "      <td>ಜಿಲ್ಲೆಗ್</td>\n",
       "      <td>[0.0, 0.0, 0.0, 0.0, 0.0, 0.0, 0.0, 0.0, 0.0, ...</td>\n",
       "    </tr>\n",
       "    <tr>\n",
       "      <th>3</th>\n",
       "      <td>ತುರ್ತು</td>\n",
       "      <td>10</td>\n",
       "      <td>ತುರ್ತು</td>\n",
       "      <td>[-0.008799999952316284, -0.052799999713897705,...</td>\n",
       "    </tr>\n",
       "    <tr>\n",
       "      <th>4</th>\n",
       "      <td>ಆಕ್ಸಿಜನ್</td>\n",
       "      <td>10</td>\n",
       "      <td>ಆಕ್ಸಿಜನ್</td>\n",
       "      <td>[0.003599999938160181, 0.011900000274181366, -...</td>\n",
       "    </tr>\n",
       "    <tr>\n",
       "      <th>...</th>\n",
       "      <td>...</td>\n",
       "      <td>...</td>\n",
       "      <td>...</td>\n",
       "      <td>...</td>\n",
       "    </tr>\n",
       "    <tr>\n",
       "      <th>20202</th>\n",
       "      <td>ದಕ್ಷಿಣ</td>\n",
       "      <td>9</td>\n",
       "      <td>ದಕ್ಷಿಣ</td>\n",
       "      <td>[0.04089999943971634, -0.0957999974489212, -0....</td>\n",
       "    </tr>\n",
       "    <tr>\n",
       "      <th>20203</th>\n",
       "      <td>ಕನ್ನಡ</td>\n",
       "      <td>27</td>\n",
       "      <td>ಕನ್ನಡ</td>\n",
       "      <td>[0.019600000232458115, -0.18199999630451202, 0...</td>\n",
       "    </tr>\n",
       "    <tr>\n",
       "      <th>20204</th>\n",
       "      <td>ಜಿಲ್ಲಾಡಳಿತಗ್</td>\n",
       "      <td>6</td>\n",
       "      <td>ಜಿಲ್ಲಾಡಳಿತಗ್</td>\n",
       "      <td>[0.0, 0.0, 0.0, 0.0, 0.0, 0.0, 0.0, 0.0, 0.0, ...</td>\n",
       "    </tr>\n",
       "    <tr>\n",
       "      <th>20205</th>\n",
       "      <td>ಕೊರ್ತೆರ್</td>\n",
       "      <td>36</td>\n",
       "      <td>ಕೊರ್ತೆರ್</td>\n",
       "      <td>[-0.042399998754262924, -0.07590000331401825, ...</td>\n",
       "    </tr>\n",
       "    <tr>\n",
       "      <th>20206</th>\n",
       "      <td>.</td>\n",
       "      <td>36</td>\n",
       "      <td>.</td>\n",
       "      <td>[-0.04280000180006027, -0.14059999585151672, -...</td>\n",
       "    </tr>\n",
       "  </tbody>\n",
       "</table>\n",
       "<p>20207 rows × 4 columns</p>\n",
       "</div>"
      ],
      "text/plain": [
       "              Words  NER_Tag          text  \\\n",
       "0            ದಕ್ಷಿಣ        9        ದಕ್ಷಿಣ   \n",
       "1             ಕನ್ನಡ       27         ಕನ್ನಡ   \n",
       "2          ಜಿಲ್ಲೆಗ್        6      ಜಿಲ್ಲೆಗ್   \n",
       "3            ತುರ್ತು       10        ತುರ್ತು   \n",
       "4          ಆಕ್ಸಿಜನ್       10      ಆಕ್ಸಿಜನ್   \n",
       "...             ...      ...           ...   \n",
       "20202        ದಕ್ಷಿಣ        9        ದಕ್ಷಿಣ   \n",
       "20203         ಕನ್ನಡ       27         ಕನ್ನಡ   \n",
       "20204  ಜಿಲ್ಲಾಡಳಿತಗ್        6  ಜಿಲ್ಲಾಡಳಿತಗ್   \n",
       "20205      ಕೊರ್ತೆರ್       36      ಕೊರ್ತೆರ್   \n",
       "20206             .       36             .   \n",
       "\n",
       "                                                     vec  \n",
       "0      [0.04089999943971634, -0.0957999974489212, -0....  \n",
       "1      [0.019600000232458115, -0.18199999630451202, 0...  \n",
       "2      [0.0, 0.0, 0.0, 0.0, 0.0, 0.0, 0.0, 0.0, 0.0, ...  \n",
       "3      [-0.008799999952316284, -0.052799999713897705,...  \n",
       "4      [0.003599999938160181, 0.011900000274181366, -...  \n",
       "...                                                  ...  \n",
       "20202  [0.04089999943971634, -0.0957999974489212, -0....  \n",
       "20203  [0.019600000232458115, -0.18199999630451202, 0...  \n",
       "20204  [0.0, 0.0, 0.0, 0.0, 0.0, 0.0, 0.0, 0.0, 0.0, ...  \n",
       "20205  [-0.042399998754262924, -0.07590000331401825, ...  \n",
       "20206  [-0.04280000180006027, -0.14059999585151672, -...  \n",
       "\n",
       "[20207 rows x 4 columns]"
      ]
     },
     "execution_count": 21,
     "metadata": {},
     "output_type": "execute_result"
    }
   ],
   "source": [
    "df"
   ]
  },
  {
   "cell_type": "code",
   "execution_count": 22,
   "metadata": {
    "id": "0x-9xTXOgGTy"
   },
   "outputs": [],
   "source": [
    "from sklearn.model_selection import train_test_split\n",
    "\n",
    "X_train,X_test,y_train,y_test = train_test_split(train_loaded, df.NER_Tag, test_size=0.3)"
   ]
  },
  {
   "cell_type": "code",
   "execution_count": 23,
   "metadata": {
    "id": "npXEUjCJUrky"
   },
   "outputs": [],
   "source": [
    "from sklearn.ensemble import RandomForestClassifier\n",
    "from sklearn import svm, tree\n",
    "from sklearn.naive_bayes import MultinomialNB,GaussianNB\n",
    "from sklearn.linear_model import LogisticRegression\n",
    "from sklearn.neural_network import MLPClassifier\n",
    "from sklearn.linear_model import Perceptron\n",
    "from sklearn.svm import SVC\n",
    "from sklearn.neighbors import KNeighborsClassifier\n",
    "from sklearn.ensemble import GradientBoostingClassifier\n",
    "from numpy import loadtxt\n",
    "from xgboost import XGBClassifier\n",
    "from sklearn.metrics import classification_report"
   ]
  },
  {
   "cell_type": "code",
   "execution_count": 24,
   "metadata": {
    "colab": {
     "base_uri": "https://localhost:8080/"
    },
    "id": "ZVSOIpfggYyD",
    "outputId": "731b845a-a655-44ec-a96d-5e88bd1f43f8"
   },
   "outputs": [
    {
     "name": "stdout",
     "output_type": "stream",
     "text": [
      "              precision    recall  f1-score   support\n",
      "\n",
      "           0       0.47      0.10      0.17       262\n",
      "           1       1.00      0.19      0.31        43\n",
      "           2       0.76      0.18      0.28       211\n",
      "           3       0.50      0.04      0.08        23\n",
      "           4       0.01      0.04      0.02        91\n",
      "           5       0.50      0.14      0.21        66\n",
      "           6       0.05      0.46      0.10        84\n",
      "           7       0.33      0.11      0.17         9\n",
      "           8       0.17      0.05      0.08        79\n",
      "           9       0.48      0.21      0.29       232\n",
      "          10       0.40      0.14      0.21       146\n",
      "          11       0.27      0.65      0.38       182\n",
      "          12       0.31      0.15      0.20       230\n",
      "          13       0.43      0.25      0.32       187\n",
      "          14       0.25      0.16      0.19       169\n",
      "          15       0.25      0.12      0.16       209\n",
      "          16       0.00      0.00      0.00         1\n",
      "          17       0.64      0.41      0.50        39\n",
      "          18       0.25      0.06      0.10        95\n",
      "          19       0.00      0.00      0.00         1\n",
      "          20       0.14      0.33      0.20        24\n",
      "          21       0.00      0.00      0.00         7\n",
      "          22       0.08      0.25      0.12         8\n",
      "          23       0.06      0.03      0.04        31\n",
      "          24       0.50      0.20      0.29         5\n",
      "          25       0.00      0.00      0.00         1\n",
      "          26       1.00      0.13      0.23        23\n",
      "          27       0.43      0.14      0.21        63\n",
      "          28       0.09      0.26      0.14        85\n",
      "          29       0.00      0.00      0.00         2\n",
      "          30       0.31      0.19      0.23       241\n",
      "          31       0.23      0.33      0.27       177\n",
      "          32       0.29      0.11      0.15        38\n",
      "          33       0.46      0.16      0.24        76\n",
      "          34       0.00      0.00      0.00         1\n",
      "          35       0.27      0.36      0.31        11\n",
      "          36       0.96      0.23      0.36      2900\n",
      "          37       0.00      0.00      0.00         3\n",
      "          38       0.33      0.12      0.18         8\n",
      "\n",
      "    accuracy                           0.21      6063\n",
      "   macro avg       0.31      0.16      0.17      6063\n",
      "weighted avg       0.65      0.21      0.29      6063\n",
      "\n"
     ]
    },
    {
     "name": "stderr",
     "output_type": "stream",
     "text": [
      "C:\\Users\\CCL\\anaconda3\\lib\\site-packages\\sklearn\\metrics\\_classification.py:1318: UndefinedMetricWarning: Precision and F-score are ill-defined and being set to 0.0 in labels with no predicted samples. Use `zero_division` parameter to control this behavior.\n",
      "  _warn_prf(average, modifier, msg_start, len(result))\n",
      "C:\\Users\\CCL\\anaconda3\\lib\\site-packages\\sklearn\\metrics\\_classification.py:1318: UndefinedMetricWarning: Precision and F-score are ill-defined and being set to 0.0 in labels with no predicted samples. Use `zero_division` parameter to control this behavior.\n",
      "  _warn_prf(average, modifier, msg_start, len(result))\n",
      "C:\\Users\\CCL\\anaconda3\\lib\\site-packages\\sklearn\\metrics\\_classification.py:1318: UndefinedMetricWarning: Precision and F-score are ill-defined and being set to 0.0 in labels with no predicted samples. Use `zero_division` parameter to control this behavior.\n",
      "  _warn_prf(average, modifier, msg_start, len(result))\n"
     ]
    }
   ],
   "source": [
    "MNB = GaussianNB()\n",
    "MNB.fit(X_train.tolist(), y_train.tolist())\n",
    "y_pred_MNB= MNB.predict(X_test.tolist())\n",
    "print( classification_report(y_test, y_pred_MNB))"
   ]
  },
  {
   "cell_type": "code",
   "execution_count": 25,
   "metadata": {
    "colab": {
     "base_uri": "https://localhost:8080/"
    },
    "id": "O0vgyUjzcTBH",
    "outputId": "92a38df4-5d21-4c9f-afb0-14ddbb90229b"
   },
   "outputs": [
    {
     "name": "stdout",
     "output_type": "stream",
     "text": [
      "              precision    recall  f1-score   support\n",
      "\n",
      "           0       0.51      0.28      0.36       262\n",
      "           1       0.82      0.21      0.33        43\n",
      "           2       0.85      0.39      0.54       211\n",
      "           3       1.00      0.04      0.08        23\n",
      "           4       0.57      0.04      0.08        91\n",
      "           5       0.53      0.14      0.22        66\n",
      "           6       0.64      0.36      0.46        84\n",
      "           7       0.00      0.00      0.00         9\n",
      "           8       0.54      0.09      0.15        79\n",
      "           9       0.67      0.50      0.57       232\n",
      "          10       0.59      0.32      0.41       146\n",
      "          11       0.95      0.66      0.78       182\n",
      "          12       0.48      0.30      0.37       230\n",
      "          13       0.60      0.55      0.57       187\n",
      "          14       0.59      0.25      0.35       169\n",
      "          15       0.56      0.35      0.43       209\n",
      "          16       0.00      0.00      0.00         1\n",
      "          17       0.78      0.46      0.58        39\n",
      "          18       0.64      0.09      0.17        95\n",
      "          19       0.00      0.00      0.00         1\n",
      "          20       0.00      0.00      0.00        24\n",
      "          21       0.00      0.00      0.00         7\n",
      "          22       0.17      0.12      0.14         8\n",
      "          23       0.50      0.03      0.06        31\n",
      "          24       0.00      0.00      0.00         5\n",
      "          25       0.00      0.00      0.00         1\n",
      "          26       0.00      0.00      0.00        23\n",
      "          27       0.74      0.22      0.34        63\n",
      "          28       0.59      0.19      0.29        85\n",
      "          29       0.00      0.00      0.00         2\n",
      "          30       0.47      0.39      0.42       241\n",
      "          31       0.68      0.47      0.56       177\n",
      "          32       0.50      0.05      0.10        38\n",
      "          33       0.57      0.11      0.18        76\n",
      "          34       0.00      0.00      0.00         1\n",
      "          35       0.33      0.09      0.14        11\n",
      "          36       0.64      0.98      0.78      2900\n",
      "          37       0.00      0.00      0.00         3\n",
      "          38       0.00      0.00      0.00         8\n",
      "\n",
      "    accuracy                           0.64      6063\n",
      "   macro avg       0.42      0.20      0.24      6063\n",
      "weighted avg       0.62      0.64      0.58      6063\n",
      "\n"
     ]
    },
    {
     "name": "stderr",
     "output_type": "stream",
     "text": [
      "C:\\Users\\CCL\\anaconda3\\lib\\site-packages\\sklearn\\metrics\\_classification.py:1318: UndefinedMetricWarning: Precision and F-score are ill-defined and being set to 0.0 in labels with no predicted samples. Use `zero_division` parameter to control this behavior.\n",
      "  _warn_prf(average, modifier, msg_start, len(result))\n",
      "C:\\Users\\CCL\\anaconda3\\lib\\site-packages\\sklearn\\metrics\\_classification.py:1318: UndefinedMetricWarning: Precision and F-score are ill-defined and being set to 0.0 in labels with no predicted samples. Use `zero_division` parameter to control this behavior.\n",
      "  _warn_prf(average, modifier, msg_start, len(result))\n",
      "C:\\Users\\CCL\\anaconda3\\lib\\site-packages\\sklearn\\metrics\\_classification.py:1318: UndefinedMetricWarning: Precision and F-score are ill-defined and being set to 0.0 in labels with no predicted samples. Use `zero_division` parameter to control this behavior.\n",
      "  _warn_prf(average, modifier, msg_start, len(result))\n"
     ]
    }
   ],
   "source": [
    "svm_model = SVC(kernel='linear', C=1.0)\n",
    "svm_model.fit(X_train.tolist(), y_train.tolist())\n",
    "y_pred_svm = svm_model.predict(X_test.tolist())\n",
    "print( classification_report(y_test, y_pred_svm))"
   ]
  },
  {
   "cell_type": "code",
   "execution_count": 26,
   "metadata": {
    "colab": {
     "base_uri": "https://localhost:8080/"
    },
    "id": "LIC5tWa-ckYp",
    "outputId": "e2bd5fe2-d7fc-40f9-f951-79dc9082890f"
   },
   "outputs": [
    {
     "name": "stdout",
     "output_type": "stream",
     "text": [
      "              precision    recall  f1-score   support\n",
      "\n",
      "           0       0.49      0.22      0.30       262\n",
      "           1       0.49      0.44      0.46        43\n",
      "           2       0.77      0.61      0.68       211\n",
      "           3       0.31      0.48      0.38        23\n",
      "           4       0.30      0.27      0.29        91\n",
      "           5       0.38      0.42      0.40        66\n",
      "           6       0.48      0.46      0.47        84\n",
      "           7       0.36      0.44      0.40         9\n",
      "           8       0.41      0.25      0.31        79\n",
      "           9       0.63      0.50      0.56       232\n",
      "          10       0.60      0.37      0.46       146\n",
      "          11       0.96      0.64      0.77       182\n",
      "          12       0.47      0.27      0.34       230\n",
      "          13       0.59      0.58      0.59       187\n",
      "          14       0.44      0.28      0.34       169\n",
      "          15       0.57      0.26      0.36       209\n",
      "          16       0.00      0.00      0.00         1\n",
      "          17       0.68      0.59      0.63        39\n",
      "          18       0.36      0.31      0.33        95\n",
      "          19       0.00      0.00      0.00         1\n",
      "          20       0.26      0.29      0.27        24\n",
      "          21       0.00      0.00      0.00         7\n",
      "          22       0.06      0.25      0.10         8\n",
      "          23       0.19      0.19      0.19        31\n",
      "          24       0.14      0.20      0.17         5\n",
      "          25       0.00      0.00      0.00         1\n",
      "          26       0.13      0.17      0.15        23\n",
      "          27       0.23      0.22      0.22        63\n",
      "          28       0.36      0.29      0.32        85\n",
      "          29       0.00      0.00      0.00         2\n",
      "          30       0.55      0.32      0.40       241\n",
      "          31       0.59      0.52      0.55       177\n",
      "          32       0.21      0.26      0.23        38\n",
      "          33       0.38      0.34      0.36        76\n",
      "          34       0.00      0.00      0.00         1\n",
      "          35       0.21      0.45      0.29        11\n",
      "          36       0.96      0.60      0.74      2900\n",
      "          37       0.00      0.00      0.00         3\n",
      "          38       0.14      0.25      0.18         8\n",
      "\n",
      "    accuracy                           0.49      6063\n",
      "   macro avg       0.35      0.30      0.31      6063\n",
      "weighted avg       0.73      0.49      0.58      6063\n",
      "\n"
     ]
    },
    {
     "name": "stderr",
     "output_type": "stream",
     "text": [
      "C:\\Users\\CCL\\anaconda3\\lib\\site-packages\\sklearn\\svm\\_base.py:1206: ConvergenceWarning: Liblinear failed to converge, increase the number of iterations.\n",
      "  warnings.warn(\n",
      "C:\\Users\\CCL\\anaconda3\\lib\\site-packages\\sklearn\\metrics\\_classification.py:1318: UndefinedMetricWarning: Precision and F-score are ill-defined and being set to 0.0 in labels with no predicted samples. Use `zero_division` parameter to control this behavior.\n",
      "  _warn_prf(average, modifier, msg_start, len(result))\n",
      "C:\\Users\\CCL\\anaconda3\\lib\\site-packages\\sklearn\\metrics\\_classification.py:1318: UndefinedMetricWarning: Precision and F-score are ill-defined and being set to 0.0 in labels with no predicted samples. Use `zero_division` parameter to control this behavior.\n",
      "  _warn_prf(average, modifier, msg_start, len(result))\n",
      "C:\\Users\\CCL\\anaconda3\\lib\\site-packages\\sklearn\\metrics\\_classification.py:1318: UndefinedMetricWarning: Precision and F-score are ill-defined and being set to 0.0 in labels with no predicted samples. Use `zero_division` parameter to control this behavior.\n",
      "  _warn_prf(average, modifier, msg_start, len(result))\n"
     ]
    }
   ],
   "source": [
    "from sklearn.svm import LinearSVC\n",
    "lsvc_model = LinearSVC(C=1.0, class_weight='balanced')\n",
    "lsvc_model.fit(X_train.tolist(), y_train.tolist())\n",
    "y_pred_lsvc = lsvc_model.predict(X_test.tolist())\n",
    "print( classification_report(y_test, y_pred_lsvc))"
   ]
  },
  {
   "cell_type": "code",
   "execution_count": 27,
   "metadata": {
    "colab": {
     "base_uri": "https://localhost:8080/"
    },
    "id": "RuXwqKricpQX",
    "outputId": "ea84b559-e818-4448-cdf6-5dba86ebd528"
   },
   "outputs": [
    {
     "name": "stdout",
     "output_type": "stream",
     "text": [
      "              precision    recall  f1-score   support\n",
      "\n",
      "           0       0.48      0.22      0.30       262\n",
      "           1       1.00      0.14      0.24        43\n",
      "           2       0.85      0.37      0.52       211\n",
      "           3       1.00      0.04      0.08        23\n",
      "           4       1.00      0.01      0.02        91\n",
      "           5       0.40      0.06      0.11        66\n",
      "           6       0.67      0.31      0.42        84\n",
      "           7       0.00      0.00      0.00         9\n",
      "           8       0.83      0.06      0.12        79\n",
      "           9       0.70      0.45      0.55       232\n",
      "          10       0.61      0.32      0.42       146\n",
      "          11       0.96      0.66      0.79       182\n",
      "          12       0.41      0.25      0.31       230\n",
      "          13       0.60      0.47      0.53       187\n",
      "          14       0.49      0.21      0.29       169\n",
      "          15       0.55      0.27      0.37       209\n",
      "          16       0.00      0.00      0.00         1\n",
      "          17       0.88      0.36      0.51        39\n",
      "          18       0.78      0.07      0.13        95\n",
      "          19       0.00      0.00      0.00         1\n",
      "          20       0.00      0.00      0.00        24\n",
      "          21       0.00      0.00      0.00         7\n",
      "          22       0.00      0.00      0.00         8\n",
      "          23       0.00      0.00      0.00        31\n",
      "          24       0.00      0.00      0.00         5\n",
      "          25       0.00      0.00      0.00         1\n",
      "          26       0.00      0.00      0.00        23\n",
      "          27       0.74      0.22      0.34        63\n",
      "          28       0.50      0.07      0.12        85\n",
      "          29       0.00      0.00      0.00         2\n",
      "          30       0.47      0.36      0.41       241\n",
      "          31       0.65      0.49      0.55       177\n",
      "          32       0.00      0.00      0.00        38\n",
      "          33       0.58      0.09      0.16        76\n",
      "          34       0.00      0.00      0.00         1\n",
      "          35       0.00      0.00      0.00        11\n",
      "          36       0.62      0.98      0.76      2900\n",
      "          37       0.00      0.00      0.00         3\n",
      "          38       0.00      0.00      0.00         8\n",
      "\n",
      "    accuracy                           0.62      6063\n",
      "   macro avg       0.40      0.17      0.21      6063\n",
      "weighted avg       0.61      0.62      0.55      6063\n",
      "\n"
     ]
    },
    {
     "name": "stderr",
     "output_type": "stream",
     "text": [
      "C:\\Users\\CCL\\anaconda3\\lib\\site-packages\\sklearn\\linear_model\\_logistic.py:814: ConvergenceWarning: lbfgs failed to converge (status=1):\n",
      "STOP: TOTAL NO. of ITERATIONS REACHED LIMIT.\n",
      "\n",
      "Increase the number of iterations (max_iter) or scale the data as shown in:\n",
      "    https://scikit-learn.org/stable/modules/preprocessing.html\n",
      "Please also refer to the documentation for alternative solver options:\n",
      "    https://scikit-learn.org/stable/modules/linear_model.html#logistic-regression\n",
      "  n_iter_i = _check_optimize_result(\n",
      "C:\\Users\\CCL\\anaconda3\\lib\\site-packages\\sklearn\\metrics\\_classification.py:1318: UndefinedMetricWarning: Precision and F-score are ill-defined and being set to 0.0 in labels with no predicted samples. Use `zero_division` parameter to control this behavior.\n",
      "  _warn_prf(average, modifier, msg_start, len(result))\n",
      "C:\\Users\\CCL\\anaconda3\\lib\\site-packages\\sklearn\\metrics\\_classification.py:1318: UndefinedMetricWarning: Precision and F-score are ill-defined and being set to 0.0 in labels with no predicted samples. Use `zero_division` parameter to control this behavior.\n",
      "  _warn_prf(average, modifier, msg_start, len(result))\n",
      "C:\\Users\\CCL\\anaconda3\\lib\\site-packages\\sklearn\\metrics\\_classification.py:1318: UndefinedMetricWarning: Precision and F-score are ill-defined and being set to 0.0 in labels with no predicted samples. Use `zero_division` parameter to control this behavior.\n",
      "  _warn_prf(average, modifier, msg_start, len(result))\n"
     ]
    }
   ],
   "source": [
    "lr_model = LogisticRegression(random_state=42)\n",
    "lr_model.fit(X_train.tolist(), y_train.tolist())\n",
    "y_pred_lr = lr_model.predict(X_test.tolist())\n",
    "print( classification_report(y_test, y_pred_lr))"
   ]
  },
  {
   "cell_type": "code",
   "execution_count": 28,
   "metadata": {
    "colab": {
     "base_uri": "https://localhost:8080/"
    },
    "id": "8Ap36-Kkdhn3",
    "outputId": "b56ba9f8-f2d4-4eb5-efe9-6307935079c1"
   },
   "outputs": [
    {
     "name": "stdout",
     "output_type": "stream",
     "text": [
      "              precision    recall  f1-score   support\n",
      "\n",
      "           0       0.62      0.34      0.44       262\n",
      "           1       0.92      0.53      0.68        43\n",
      "           2       0.91      0.68      0.78       211\n",
      "           3       0.62      0.22      0.32        23\n",
      "           4       0.83      0.32      0.46        91\n",
      "           5       0.70      0.42      0.53        66\n",
      "           6       0.67      0.44      0.53        84\n",
      "           7       0.43      0.33      0.38         9\n",
      "           8       0.73      0.20      0.32        79\n",
      "           9       0.76      0.47      0.58       232\n",
      "          10       0.69      0.39      0.50       146\n",
      "          11       0.95      0.61      0.74       182\n",
      "          12       0.61      0.33      0.43       230\n",
      "          13       0.63      0.53      0.57       187\n",
      "          14       0.57      0.23      0.33       169\n",
      "          15       0.65      0.32      0.42       209\n",
      "          16       0.00      0.00      0.00         1\n",
      "          17       0.83      0.51      0.63        39\n",
      "          18       0.53      0.25      0.34        95\n",
      "          19       0.00      0.00      0.00         1\n",
      "          20       0.40      0.08      0.14        24\n",
      "          21       0.00      0.00      0.00         7\n",
      "          22       0.17      0.12      0.14         8\n",
      "          23       0.12      0.03      0.05        31\n",
      "          24       0.00      0.00      0.00         5\n",
      "          25       0.00      0.00      0.00         1\n",
      "          26       0.43      0.13      0.20        23\n",
      "          27       0.68      0.27      0.39        63\n",
      "          28       0.41      0.16      0.24        85\n",
      "          29       0.00      0.00      0.00         2\n",
      "          30       0.56      0.38      0.46       241\n",
      "          31       0.66      0.53      0.59       177\n",
      "          32       0.67      0.11      0.18        38\n",
      "          33       0.62      0.26      0.37        76\n",
      "          34       0.00      0.00      0.00         1\n",
      "          35       0.50      0.36      0.42        11\n",
      "          36       0.67      0.98      0.80      2900\n",
      "          37       0.00      0.00      0.00         3\n",
      "          38       0.17      0.12      0.14         8\n",
      "\n",
      "    accuracy                           0.67      6063\n",
      "   macro avg       0.48      0.27      0.34      6063\n",
      "weighted avg       0.67      0.67      0.63      6063\n",
      "\n"
     ]
    },
    {
     "name": "stderr",
     "output_type": "stream",
     "text": [
      "C:\\Users\\CCL\\anaconda3\\lib\\site-packages\\sklearn\\metrics\\_classification.py:1318: UndefinedMetricWarning: Precision and F-score are ill-defined and being set to 0.0 in labels with no predicted samples. Use `zero_division` parameter to control this behavior.\n",
      "  _warn_prf(average, modifier, msg_start, len(result))\n",
      "C:\\Users\\CCL\\anaconda3\\lib\\site-packages\\sklearn\\metrics\\_classification.py:1318: UndefinedMetricWarning: Precision and F-score are ill-defined and being set to 0.0 in labels with no predicted samples. Use `zero_division` parameter to control this behavior.\n",
      "  _warn_prf(average, modifier, msg_start, len(result))\n",
      "C:\\Users\\CCL\\anaconda3\\lib\\site-packages\\sklearn\\metrics\\_classification.py:1318: UndefinedMetricWarning: Precision and F-score are ill-defined and being set to 0.0 in labels with no predicted samples. Use `zero_division` parameter to control this behavior.\n",
      "  _warn_prf(average, modifier, msg_start, len(result))\n"
     ]
    }
   ],
   "source": [
    "RF_model = RandomForestClassifier()\n",
    "RF_model.fit(X_train.tolist(), y_train.tolist())\n",
    "y_pred_rf = RF_model.predict(X_test.tolist())\n",
    "print( classification_report(y_test, y_pred_rf))"
   ]
  },
  {
   "cell_type": "code",
   "execution_count": 29,
   "metadata": {
    "id": "uUToDZ088K21"
   },
   "outputs": [],
   "source": [
    "from sklearn.ensemble import VotingClassifier\n",
    "voting = VotingClassifier( estimators=[('linear_regression', lr_model),('SVM', lsvc_model),('RFC', RF_model)], voting='hard')"
   ]
  },
  {
   "cell_type": "code",
   "execution_count": 30,
   "metadata": {
    "colab": {
     "base_uri": "https://localhost:8080/",
     "height": 284
    },
    "id": "CmZcxRyvEic1",
    "outputId": "ed1c1e73-c475-45ed-bd5b-74149c15260d"
   },
   "outputs": [
    {
     "name": "stderr",
     "output_type": "stream",
     "text": [
      "C:\\Users\\CCL\\anaconda3\\lib\\site-packages\\sklearn\\linear_model\\_logistic.py:814: ConvergenceWarning: lbfgs failed to converge (status=1):\n",
      "STOP: TOTAL NO. of ITERATIONS REACHED LIMIT.\n",
      "\n",
      "Increase the number of iterations (max_iter) or scale the data as shown in:\n",
      "    https://scikit-learn.org/stable/modules/preprocessing.html\n",
      "Please also refer to the documentation for alternative solver options:\n",
      "    https://scikit-learn.org/stable/modules/linear_model.html#logistic-regression\n",
      "  n_iter_i = _check_optimize_result(\n",
      "C:\\Users\\CCL\\anaconda3\\lib\\site-packages\\sklearn\\svm\\_base.py:1206: ConvergenceWarning: Liblinear failed to converge, increase the number of iterations.\n",
      "  warnings.warn(\n"
     ]
    },
    {
     "data": {
      "text/plain": [
       "VotingClassifier(estimators=[('linear_regression',\n",
       "                              LogisticRegression(random_state=42)),\n",
       "                             ('SVM', LinearSVC(class_weight='balanced')),\n",
       "                             ('RFC', RandomForestClassifier())])"
      ]
     },
     "execution_count": 30,
     "metadata": {},
     "output_type": "execute_result"
    }
   ],
   "source": [
    "voting.fit(X_train.tolist(), y_train.tolist())"
   ]
  },
  {
   "cell_type": "code",
   "execution_count": 31,
   "metadata": {
    "colab": {
     "base_uri": "https://localhost:8080/"
    },
    "id": "3S6Hm1_iEtEF",
    "outputId": "3732201a-fb5a-4c8e-fd67-2b08766a4dbc"
   },
   "outputs": [
    {
     "name": "stdout",
     "output_type": "stream",
     "text": [
      "              precision    recall  f1-score   support\n",
      "\n",
      "           0       0.54      0.31      0.40       262\n",
      "           1       0.88      0.49      0.63        43\n",
      "           2       0.89      0.68      0.77       211\n",
      "           3       0.50      0.30      0.38        23\n",
      "           4       0.73      0.33      0.45        91\n",
      "           5       0.50      0.39      0.44        66\n",
      "           6       0.57      0.43      0.49        84\n",
      "           7       0.38      0.33      0.35         9\n",
      "           8       0.58      0.19      0.29        79\n",
      "           9       0.71      0.51      0.59       232\n",
      "          10       0.60      0.40      0.48       146\n",
      "          11       0.96      0.66      0.78       182\n",
      "          12       0.51      0.33      0.40       230\n",
      "          13       0.61      0.57      0.59       187\n",
      "          14       0.47      0.27      0.34       169\n",
      "          15       0.61      0.36      0.46       209\n",
      "          16       0.00      0.00      0.00         1\n",
      "          17       0.84      0.54      0.66        39\n",
      "          18       0.48      0.21      0.29        95\n",
      "          19       0.00      0.00      0.00         1\n",
      "          20       0.67      0.08      0.15        24\n",
      "          21       0.00      0.00      0.00         7\n",
      "          22       0.17      0.12      0.14         8\n",
      "          23       0.18      0.06      0.10        31\n",
      "          24       0.00      0.00      0.00         5\n",
      "          25       0.00      0.00      0.00         1\n",
      "          26       0.40      0.09      0.14        23\n",
      "          27       0.61      0.22      0.33        63\n",
      "          28       0.41      0.19      0.26        85\n",
      "          29       0.00      0.00      0.00         2\n",
      "          30       0.57      0.34      0.42       241\n",
      "          31       0.70      0.49      0.57       177\n",
      "          32       0.67      0.11      0.18        38\n",
      "          33       0.60      0.16      0.25        76\n",
      "          34       0.00      0.00      0.00         1\n",
      "          35       0.50      0.36      0.42        11\n",
      "          36       0.68      0.97      0.80      2900\n",
      "          37       0.00      0.00      0.00         3\n",
      "          38       0.17      0.12      0.14         8\n",
      "\n",
      "    accuracy                           0.67      6063\n",
      "   macro avg       0.45      0.27      0.33      6063\n",
      "weighted avg       0.65      0.67      0.63      6063\n",
      "\n"
     ]
    },
    {
     "name": "stderr",
     "output_type": "stream",
     "text": [
      "C:\\Users\\CCL\\anaconda3\\lib\\site-packages\\sklearn\\metrics\\_classification.py:1318: UndefinedMetricWarning: Precision and F-score are ill-defined and being set to 0.0 in labels with no predicted samples. Use `zero_division` parameter to control this behavior.\n",
      "  _warn_prf(average, modifier, msg_start, len(result))\n",
      "C:\\Users\\CCL\\anaconda3\\lib\\site-packages\\sklearn\\metrics\\_classification.py:1318: UndefinedMetricWarning: Precision and F-score are ill-defined and being set to 0.0 in labels with no predicted samples. Use `zero_division` parameter to control this behavior.\n",
      "  _warn_prf(average, modifier, msg_start, len(result))\n",
      "C:\\Users\\CCL\\anaconda3\\lib\\site-packages\\sklearn\\metrics\\_classification.py:1318: UndefinedMetricWarning: Precision and F-score are ill-defined and being set to 0.0 in labels with no predicted samples. Use `zero_division` parameter to control this behavior.\n",
      "  _warn_prf(average, modifier, msg_start, len(result))\n"
     ]
    }
   ],
   "source": [
    "voting_pred_dev = voting.predict(X_test.tolist())\n",
    "print(classification_report(y_test.tolist(), voting_pred_dev))"
   ]
  },
  {
   "cell_type": "code",
   "execution_count": null,
   "metadata": {
    "id": "yzJBD5BnE359"
   },
   "outputs": [],
   "source": []
  }
 ],
 "metadata": {
  "colab": {
   "provenance": []
  },
  "kernelspec": {
   "display_name": "Python 3 (ipykernel)",
   "language": "python",
   "name": "python3"
  },
  "language_info": {
   "codemirror_mode": {
    "name": "ipython",
    "version": 3
   },
   "file_extension": ".py",
   "mimetype": "text/x-python",
   "name": "python",
   "nbconvert_exporter": "python",
   "pygments_lexer": "ipython3",
   "version": "3.9.13"
  }
 },
 "nbformat": 4,
 "nbformat_minor": 1
}
